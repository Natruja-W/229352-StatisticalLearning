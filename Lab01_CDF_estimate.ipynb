{
  "nbformat": 4,
  "nbformat_minor": 0,
  "metadata": {
    "colab": {
      "provenance": [],
      "include_colab_link": true
    },
    "kernelspec": {
      "name": "python3",
      "display_name": "Python 3"
    },
    "language_info": {
      "name": "python"
    }
  },
  "cells": [
    {
      "cell_type": "markdown",
      "metadata": {
        "id": "view-in-github",
        "colab_type": "text"
      },
      "source": [
        "<a href=\"https://colab.research.google.com/github/Natruja-W/229352-StatisticalLearning/blob/main/Lab01_CDF_estimate.ipynb\" target=\"_parent\"><img src=\"https://colab.research.google.com/assets/colab-badge.svg\" alt=\"Open In Colab\"/></a>"
      ]
    },
    {
      "cell_type": "markdown",
      "source": [
        "### Statistical Learning for Data Science 2 (229352)\n",
        "#### Instructor: Donlapark Ponnoprat\n",
        "\n",
        "#### [Course website](https://donlapark.pages.dev/229352/)\n",
        "\n",
        "## Lab #1"
      ],
      "metadata": {
        "id": "1Kv2vWvn68jM"
      }
    },
    {
      "cell_type": "markdown",
      "source": [
        "# Cumulative Distribution Function (CDF) Estimation"
      ],
      "metadata": {
        "id": "bpONw8rsWkEZ"
      }
    },
    {
      "cell_type": "markdown",
      "source": [
        "## 1. Estimate the CDF from the sample using EDF"
      ],
      "metadata": {
        "id": "yvPI55w2VP4M"
      }
    },
    {
      "cell_type": "code",
      "execution_count": null,
      "metadata": {
        "id": "-eYItBuAHotn"
      },
      "outputs": [],
      "source": [
        "# @title\n",
        "# --- Block 1: Setup & Interactive ECDF vs. True CDF ---\n",
        "\n",
        "import numpy as np\n",
        "import matplotlib.pyplot as plt\n",
        "from scipy import stats, integrate\n",
        "import ipywidgets as widgets\n",
        "from IPython.display import display, clear_output\n",
        "\n",
        "# --- Configuration ---\n",
        "TRUE_DISTRIBUTION_MEAN = 2\n",
        "TRUE_DISTRIBUTION_STD_DEV = 1\n",
        "INITIAL_NUM_SAMPLES = 3 # Starting points for ECDF\n",
        "SAMPLES_PER_CLICK_ECDF = 5 # Points added to ECDF per 'Add Samples' click (Block 1)\n",
        "NUM_SAMPLES_FOR_HISTOGRAMS = 5000 # Number of samples to draw for histogram comparisons (Blocks 3 & 5)\n",
        "PLOT_BUFFER = 1.5 # X-axis buffer for plots\n",
        "KDE_NUM_POINTS = 500 # Number of points to evaluate KDE/smoothed CDF over\n",
        "\n",
        "# --- Matplotlib Global Style Configuration ---\n",
        "plt.rcParams.update({'font.size': 14}) # Base font size\n",
        "plt.rcParams['axes.titlesize'] = 16\n",
        "plt.rcParams['axes.labelsize'] = 14\n",
        "plt.rcParams['legend.fontsize'] = 12\n",
        "\n",
        "# --- Global Data Storage and State ---\n",
        "current_data_points = [] # The original data points from true distribution\n",
        "\n",
        "# --- Helper Functions (Defined once, used by all blocks) ---\n",
        "\n",
        "def calculate_ecdf_plot_points(data, x_plot_min, x_plot_max):\n",
        "    \"\"\"\n",
        "    Calculates x and y coordinates for plotting the ECDF,\n",
        "    extending it from 0 to 1 across the plot's x-range.\n",
        "    \"\"\"\n",
        "    if not data:\n",
        "        # Return empty arrays, but still define the range for consistency\n",
        "        return np.array([x_plot_min, x_plot_max]), np.array([0, 1])\n",
        "\n",
        "    sorted_data = np.sort(data)\n",
        "    n = len(sorted_data)\n",
        "\n",
        "    y_ecdf_core = np.arange(1, n + 1) / n\n",
        "\n",
        "    # Extend ECDF to start at 0 and end at 1 across the plot's x-range\n",
        "    # Prepend a point: (x_plot_min, 0)\n",
        "    x_ecdf_extended = np.insert(sorted_data, 0, x_plot_min)\n",
        "    y_ecdf_extended = np.insert(y_ecdf_core, 0, 0)\n",
        "    # Append a point: (x_plot_max, 1)\n",
        "    x_ecdf_extended = np.append(x_ecdf_extended, x_plot_max)\n",
        "    y_ecdf_extended = np.append(y_ecdf_extended, 1)\n",
        "\n",
        "    return x_ecdf_extended, y_ecdf_extended\n",
        "\n",
        "def sample_from_ecdf(data, num_samples=None, uniform_draws=None):\n",
        "    \"\"\"\n",
        "    Generates samples from the ECDF using inverse transform sampling.\n",
        "    For a uniform random variable u, the sample is the k-th smallest data point\n",
        "    where k = ceil(n * u).\n",
        "    If uniform_draws is provided, uses those; otherwise, generates num_samples.\n",
        "    \"\"\"\n",
        "    if not data:\n",
        "        return np.array([])\n",
        "    sorted_data = np.sort(data)\n",
        "    n = len(sorted_data)\n",
        "\n",
        "    if n == 0:\n",
        "        return np.array([])\n",
        "\n",
        "    if uniform_draws is None:\n",
        "        if num_samples is None:\n",
        "            raise ValueError(\"Either num_samples or uniform_draws must be provided.\")\n",
        "        uniform_samples = np.random.rand(num_samples)\n",
        "    else:\n",
        "        uniform_samples = np.asarray(uniform_draws) # Ensure it's an array\n",
        "\n",
        "    # Calculate the index k = ceil(n * u)\n",
        "    # np.ceil returns floats, convert to int for indexing\n",
        "    # Subtract 1 because Python indexing is 0-based for arrays\n",
        "    # Handle u=0 edge case: ceil(n*0) = 0, so index becomes -1. This should map to index 0 (first element).\n",
        "    indices = np.ceil(n * uniform_samples).astype(int) - 1\n",
        "    indices[indices < 0] = 0 # Ensures uniform_draws=0 maps to the first data point\n",
        "\n",
        "    sampled_values = sorted_data[indices]\n",
        "\n",
        "    return sampled_values\n",
        "\n",
        "def get_smoothed_cdf_and_x_range(data, true_mean, true_std_dev):\n",
        "    \"\"\"\n",
        "    Calculates a smoothed CDF using KDE from the given data.\n",
        "    Returns the x_range for plotting and the corresponding smoothed CDF values.\n",
        "    \"\"\"\n",
        "    if len(data) < 2: # KDE needs at least 2 points\n",
        "        # If not enough data, return a default range and the true CDF as a fallback\n",
        "        min_val = true_mean - 3 * true_std_dev\n",
        "        max_val = true_mean + 3 * true_std_dev\n",
        "        x_range = np.linspace(min_val - PLOT_BUFFER, max_val + PLOT_BUFFER, KDE_NUM_POINTS)\n",
        "        return x_range, stats.norm.cdf(x_range, loc=true_mean, scale=true_std_dev)\n",
        "\n",
        "    min_val_data = np.min(data)\n",
        "    max_val_data = np.max(data)\n",
        "    x_range = np.linspace(min_val_data - PLOT_BUFFER, max_val_data + PLOT_BUFFER, KDE_NUM_POINTS)\n",
        "\n",
        "    kde = stats.gaussian_kde(data)\n",
        "    pdf_vals = kde.evaluate(x_range)\n",
        "\n",
        "    # Numerically integrate the PDF to get the CDF\n",
        "    cdf_vals = integrate.cumulative_trapezoid(pdf_vals, x_range, initial=0)\n",
        "    if cdf_vals[-1] != 0:\n",
        "        cdf_vals = cdf_vals / cdf_vals[-1] # Ensure it ends at 1\n",
        "    else: # Fallback if integration results in all zeros (e.g., all data points are identical)\n",
        "        cdf_vals = np.zeros_like(cdf_vals)\n",
        "        if len(cdf_vals) > 0: cdf_vals[-1] = 1.0 # Force last point to 1 if possible\n",
        "\n",
        "    return x_range, cdf_vals\n",
        "\n",
        "def sample_from_smoothed_cdf(x_range, smoothed_cdf_vals, num_samples):\n",
        "    \"\"\"\n",
        "    Generates samples from the smoothed CDF using inverse transform sampling.\n",
        "    \"\"\"\n",
        "    if len(x_range) < 2 or len(smoothed_cdf_vals) < 2:\n",
        "        return np.array([])\n",
        "    uniform_samples = np.random.rand(num_samples)\n",
        "    sampled_values = np.interp(uniform_samples, smoothed_cdf_vals, x_range)\n",
        "    return sampled_values\n",
        "\n",
        "# --- Initialization of current_data_points (for all blocks) ---\n",
        "def initialize_data():\n",
        "    global current_data_points\n",
        "    np.random.seed(42) # For reproducibility of initial data\n",
        "    current_data_points = stats.norm.rvs(\n",
        "        loc=TRUE_DISTRIBUTION_MEAN,\n",
        "        scale=TRUE_DISTRIBUTION_STD_DEV,\n",
        "        size=INITIAL_NUM_SAMPLES\n",
        "    ).tolist()\n",
        "    current_data_points.sort()\n",
        "\n",
        "initialize_data() # Call to set up initial data\n",
        "\n",
        "# --- Plotting Function for Block 1 ---\n",
        "def plot_ecdf_vs_true_cdf():\n",
        "    fig, ax = plt.subplots(figsize=(10, 6))\n",
        "\n",
        "    if current_data_points:\n",
        "        min_val_data = np.min(current_data_points)\n",
        "        max_val_data = np.max(current_data_points)\n",
        "    else:\n",
        "        min_val_data = TRUE_DISTRIBUTION_MEAN - 3 * TRUE_DISTRIBUTION_STD_DEV\n",
        "        max_val_data = TRUE_DISTRIBUTION_MEAN + 3 * TRUE_DISTRIBUTION_STD_DEV\n",
        "    x_plot_min = min_val_data - PLOT_BUFFER\n",
        "    x_plot_max = max_val_data + PLOT_BUFFER\n",
        "    x_vals_plot_range = np.linspace(x_plot_min, x_plot_max, KDE_NUM_POINTS)\n",
        "\n",
        "    # True CDF\n",
        "    y_vals_true_cdf = stats.norm.cdf(x_vals_plot_range, loc=TRUE_DISTRIBUTION_MEAN, scale=TRUE_DISTRIBUTION_STD_DEV)\n",
        "    ax.plot(x_vals_plot_range, y_vals_true_cdf,\n",
        "            label=f'True CDF (Normal({TRUE_DISTRIBUTION_MEAN}, {TRUE_DISTRIBUTION_STD_DEV}))',\n",
        "            color='blue', linewidth=3)\n",
        "\n",
        "    # ECDF\n",
        "    x_ecdf, y_ecdf = calculate_ecdf_plot_points(current_data_points, x_plot_min, x_plot_max)\n",
        "    ax.step(x_ecdf, y_ecdf, where='post',\n",
        "            label=f'ECDF (n={len(current_data_points)} samples)',\n",
        "            color='red', linestyle='--', linewidth=2)\n",
        "\n",
        "    # Plot individual data points\n",
        "    if current_data_points:\n",
        "        ax.scatter(current_data_points, np.zeros_like(current_data_points),\n",
        "                   marker='|', color='gray', s=150, zorder=5, label='Data Points')\n",
        "\n",
        "    ax.set_title('Interactive ECDF vs. True CDF')\n",
        "    ax.set_xlabel('Value (X)')\n",
        "    ax.set_ylabel('P(X <= x)')\n",
        "    ax.legend(loc='upper left')\n",
        "    ax.grid(True, linestyle=':', alpha=0.7)\n",
        "    ax.set_ylim(0, 1.05)\n",
        "    ax.set_xlim(x_plot_min, x_plot_max)\n",
        "    plt.tight_layout()\n",
        "    plt.show()\n",
        "\n",
        "# --- Interactive Elements for Block 1 ---\n",
        "block1_output = widgets.Output()\n",
        "add_samples_button_block1 = widgets.Button(description=f\"Add {SAMPLES_PER_CLICK_ECDF} New Samples to ECDF\")\n",
        "reset_data_button_block1 = widgets.Button(description=\"Reset Data to Initial\")\n",
        "\n",
        "def on_add_samples_block1_clicked(b):\n",
        "    global current_data_points\n",
        "    new_samples = stats.norm.rvs(\n",
        "        loc=TRUE_DISTRIBUTION_MEAN,\n",
        "        scale=TRUE_DISTRIBUTION_STD_DEV,\n",
        "        size=SAMPLES_PER_CLICK_ECDF\n",
        "    )\n",
        "    current_data_points.extend(new_samples.tolist())\n",
        "    current_data_points.sort()\n",
        "    with block1_output:\n",
        "        clear_output(wait=True)\n",
        "        plot_ecdf_vs_true_cdf()\n",
        "\n",
        "def on_reset_data_block1_clicked(b):\n",
        "    initialize_data() # Reset global data points\n",
        "    with block1_output:\n",
        "        clear_output(wait=True)\n",
        "        plot_ecdf_vs_true_cdf()\n",
        "\n",
        "add_samples_button_block1.on_click(on_add_samples_block1_clicked)\n",
        "reset_data_button_block1.on_click(on_reset_data_block1_clicked)\n",
        "\n",
        "print(\"Block 1: Visualize the ECDF and how it converges to the True CDF.\")\n",
        "display(widgets.HBox([add_samples_button_block1, reset_data_button_block1]), block1_output)\n",
        "\n",
        "# Initial display for Block 1\n",
        "with block1_output:\n",
        "    plot_ecdf_vs_true_cdf()"
      ]
    },
    {
      "cell_type": "markdown",
      "source": [
        "## 2. Sample from the EDF using Inverse CDF sampling"
      ],
      "metadata": {
        "id": "1Vl3gKNqVkRT"
      }
    },
    {
      "cell_type": "code",
      "source": [
        "# @title\n",
        "# --- Block 2: Interactive Inverse CDF Sampling Illustration ---\n",
        "\n",
        "# Global variable for samples collected in this specific illustration\n",
        "# Will store (uniform_value, sampled_x_value) tuples\n",
        "ecdf_illustration_samples = []\n",
        "\n",
        "def plot_inverse_cdf_illustration():\n",
        "    fig, (ax_cdf, ax_hist) = plt.subplots(1, 2, figsize=(14, 6), sharey=False)\n",
        "\n",
        "    # Determine plot X-range based on current_data_points\n",
        "    if current_data_points:\n",
        "        min_val_data = np.min(current_data_points)\n",
        "        max_val_data = np.max(current_data_points)\n",
        "    else:\n",
        "        min_val_data = TRUE_DISTRIBUTION_MEAN - 3 * TRUE_DISTRIBUTION_STD_DEV\n",
        "        max_val_data = TRUE_DISTRIBUTION_MEAN + 3 * TRUE_DISTRIBUTION_STD_DEV\n",
        "\n",
        "    x_plot_min = min_val_data - PLOT_BUFFER\n",
        "    x_plot_max = max_val_data + PLOT_BUFFER\n",
        "    x_vals_plot_range = np.linspace(x_plot_min, x_plot_max, KDE_NUM_POINTS)\n",
        "\n",
        "    # --- Left Plot (ECDF and Sampling) ---\n",
        "    # True CDF (for context)\n",
        "    y_vals_true_cdf = stats.norm.cdf(x_vals_plot_range, loc=TRUE_DISTRIBUTION_MEAN, scale=TRUE_DISTRIBUTION_STD_DEV)\n",
        "    ax_cdf.plot(x_vals_plot_range, y_vals_true_cdf,\n",
        "                label=f'True CDF', color='blue', linewidth=1.5, alpha=0.5)\n",
        "\n",
        "    # ECDF\n",
        "    x_ecdf, y_ecdf = calculate_ecdf_plot_points(current_data_points, x_plot_min, x_plot_max)\n",
        "    ax_cdf.step(x_ecdf, y_ecdf, where='post',\n",
        "                label=f'ECDF (n={len(current_data_points)} samples)',\n",
        "                color='red', linestyle='-', linewidth=2)\n",
        "\n",
        "    # Plot individual data points (on the x-axis)\n",
        "    if current_data_points:\n",
        "        ax_cdf.scatter(current_data_points, np.zeros_like(current_data_points),\n",
        "                       marker='|', color='gray', s=100, zorder=5, label='Data Points')\n",
        "\n",
        "    # Add the current sample illustration if there are samples\n",
        "    if ecdf_illustration_samples:\n",
        "        # Get the last sampled uniform value and corresponding x_value\n",
        "        last_uniform_val, last_sampled_x = ecdf_illustration_samples[-1] # Get from stored tuple\n",
        "\n",
        "        # Draw horizontal line from y-axis to the sampled point's x-value\n",
        "        ax_cdf.plot([x_plot_min, last_sampled_x], [last_uniform_val, last_uniform_val],\n",
        "                    color='green', linestyle=':', linewidth=1.5, label='Uniform Draw (u)')\n",
        "        # Draw vertical line from the uniform draw level down to x-axis at sampled_x\n",
        "        ax_cdf.plot([last_sampled_x, last_sampled_x], [0, last_uniform_val],\n",
        "                    color='green', linestyle=':', linewidth=1.5)\n",
        "        # Mark the sampled point on x-axis\n",
        "        ax_cdf.plot(last_sampled_x, 0, marker='o', color='green', markersize=8,\n",
        "                    label=f'Sampled X: {last_sampled_x:.2f}')\n",
        "        ax_cdf.set_title(f'Inverse CDF Sampling (u={last_uniform_val:.2f})')\n",
        "    else:\n",
        "        ax_cdf.set_title('Inverse CDF Sampling (Draw a Sample)')\n",
        "\n",
        "    ax_cdf.set_xlabel('Value (X)')\n",
        "    ax_cdf.set_ylabel('P(X <= x) / Uniform (u)')\n",
        "    ax_cdf.legend(loc='upper left')\n",
        "    ax_cdf.grid(True, linestyle=':', alpha=0.7)\n",
        "    ax_cdf.set_ylim(0, 1.05)\n",
        "    ax_cdf.set_xlim(x_plot_min, x_plot_max)\n",
        "\n",
        "    # --- Right Plot (Histogram of Drawn Values) ---\n",
        "    ax_hist.set_title('Histogram of ECDF Samples')\n",
        "    ax_hist.set_xlabel('Value (X)')\n",
        "    ax_hist.set_ylabel('Density')\n",
        "\n",
        "    if ecdf_illustration_samples:\n",
        "        # Extract only the x_values for the histogram\n",
        "        x_values_for_hist = [item[1] for item in ecdf_illustration_samples]\n",
        "        bins = np.linspace(x_plot_min, x_plot_max, 30) # Use consistent bins\n",
        "        ax_hist.hist(x_values_for_hist, bins=bins, density=True, color='orange', alpha=0.7)\n",
        "        ax_hist.set_title(f'Histogram of ECDF Samples (n={len(x_values_for_hist)})')\n",
        "    else:\n",
        "        ax_hist.text(0.5, 0.5, 'Click \"Draw Sample\" to begin',\n",
        "                     horizontalalignment='center', verticalalignment='center',\n",
        "                     transform=ax_hist.transAxes, fontsize=12, color='gray')\n",
        "    ax_hist.grid(True, linestyle=':', alpha=0.7)\n",
        "    ax_hist.set_xlim(x_plot_min, x_plot_max) # Keep x-axis consistent\n",
        "\n",
        "    plt.tight_layout()\n",
        "    plt.show()\n",
        "\n",
        "# --- Interactive Elements for Block 2 ---\n",
        "block2_output = widgets.Output()\n",
        "draw_sample_button = widgets.Button(description=\"Draw 1 Sample (Illustrate)\")\n",
        "reset_illustration_button = widgets.Button(description=\"Reset Samples\")\n",
        "\n",
        "def on_draw_sample_clicked(b):\n",
        "    global ecdf_illustration_samples\n",
        "    if not current_data_points:\n",
        "        with block2_output: clear_output(wait=True); display(widgets.HTML(\"<b>Please add samples in Block 1 first.</b>\"))\n",
        "        return\n",
        "\n",
        "    # Generate one uniform value\n",
        "    uniform_val = np.random.rand(1)[0]\n",
        "    # Use this uniform_val to get the corresponding sampled x_value\n",
        "    sampled_x_val = sample_from_ecdf(current_data_points, uniform_draws=[uniform_val])[0]\n",
        "\n",
        "    ecdf_illustration_samples.append((uniform_val, sampled_x_val)) # Store the tuple\n",
        "    with block2_output:\n",
        "        clear_output(wait=True)\n",
        "        plot_inverse_cdf_illustration()\n",
        "\n",
        "def on_reset_illustration_clicked(b):\n",
        "    global ecdf_illustration_samples\n",
        "    ecdf_illustration_samples = [] # Clear samples\n",
        "    with block2_output:\n",
        "        clear_output(wait=True)\n",
        "        plot_inverse_cdf_illustration()\n",
        "\n",
        "draw_sample_button.on_click(on_draw_sample_clicked)\n",
        "reset_illustration_button.on_click(on_reset_illustration_clicked)\n",
        "\n",
        "print(\"Block 2: Illustrate Inverse CDF Sampling from the ECDF.\")\n",
        "print(\"The data for the ECDF is taken from Block 1. Add more data in Block 1 to see its effect here.\")\n",
        "display(widgets.HBox([draw_sample_button, reset_illustration_button]), block2_output)\n",
        "\n",
        "# Initial display for Block 2\n",
        "with block2_output:\n",
        "    plot_inverse_cdf_illustration()"
      ],
      "metadata": {
        "id": "iU_gXUzxHsbz"
      },
      "execution_count": null,
      "outputs": []
    },
    {
      "cell_type": "markdown",
      "source": [
        "## 3. Compare the histograms of samples from EDF and true CDF"
      ],
      "metadata": {
        "id": "CL1aCMmbVr5h"
      }
    },
    {
      "cell_type": "code",
      "source": [
        "# @title\n",
        "# --- Block 3: Comparison of Histograms (ECDF Samples vs. True CDF Samples) ---\n",
        "\n",
        "def plot_ecdf_histogram_comparison():\n",
        "    # Ensure a sufficient number of samples are drawn for a meaningful histogram\n",
        "    if not current_data_points:\n",
        "        with block3_output: clear_output(wait=True); display(widgets.HTML(\"<b>No data points available from Block 1 to plot histograms.</b>\"))\n",
        "        return\n",
        "\n",
        "    ecdf_sampled_data = sample_from_ecdf(current_data_points, num_samples=NUM_SAMPLES_FOR_HISTOGRAMS)\n",
        "    true_cdf_sampled_data = stats.norm.rvs(\n",
        "        loc=TRUE_DISTRIBUTION_MEAN,\n",
        "        scale=TRUE_DISTRIBUTION_STD_DEV,\n",
        "        size=NUM_SAMPLES_FOR_HISTOGRAMS\n",
        "    )\n",
        "\n",
        "    fig, (ax1, ax2) = plt.subplots(1, 2, figsize=(14, 6), sharey=True, sharex=True)\n",
        "\n",
        "    # Determine common bins and x-range\n",
        "    all_samples = np.concatenate([ecdf_sampled_data, true_cdf_sampled_data])\n",
        "    min_val_hist = np.min(all_samples)\n",
        "    max_val_hist = np.max(all_samples)\n",
        "    bins = np.linspace(min_val_hist, max_val_hist, 50)\n",
        "\n",
        "    # Histogram from ECDF samples\n",
        "    ax1.hist(ecdf_sampled_data, bins=bins, density=True, alpha=0.7, color='red',\n",
        "             label=f'From ECDF (n_orig={len(current_data_points)})')\n",
        "    ax1.set_title('Samples from ECDF')\n",
        "    ax1.set_xlabel('Value (X)')\n",
        "    ax1.set_ylabel('Density')\n",
        "    ax1.legend()\n",
        "    ax1.grid(True, linestyle=':', alpha=0.7)\n",
        "\n",
        "    # Histogram from True CDF samples\n",
        "    ax2.hist(true_cdf_sampled_data, bins=bins, density=True, alpha=0.7, color='blue',\n",
        "             label=f'From True CDF (N={TRUE_DISTRIBUTION_MEAN}, S={TRUE_DISTRIBUTION_STD_DEV})')\n",
        "    ax2.set_title('Samples from True CDF')\n",
        "    ax2.set_xlabel('Value (X)')\n",
        "    ax2.legend()\n",
        "    ax2.grid(True, linestyle=':', alpha=0.7)\n",
        "\n",
        "    plt.suptitle(f'Block 3: Comparing Sample Distributions ({NUM_SAMPLES_FOR_HISTOGRAMS} samples each)')\n",
        "    plt.tight_layout(rect=[0, 0.03, 1, 0.95])\n",
        "    plt.show()\n",
        "\n",
        "# --- Interactive Elements for Block 3 ---\n",
        "block3_output = widgets.Output()\n",
        "refresh_hist_button_block3 = widgets.Button(description=\"Refresh Histograms\")\n",
        "\n",
        "def on_refresh_hist_block3_clicked(b):\n",
        "    with block3_output:\n",
        "        clear_output(wait=True)\n",
        "        plot_ecdf_histogram_comparison()\n",
        "\n",
        "refresh_hist_button_block3.on_click(on_refresh_hist_block3_clicked)\n",
        "\n",
        "print(\"Block 3: Compare samples generated from the ECDF to samples from the True CDF.\")\n",
        "print(\"Click 'Refresh Histograms' to update based on current data from Block 1.\")\n",
        "display(refresh_hist_button_block3, block3_output)\n",
        "\n",
        "# Initial display for Block 3\n",
        "with block3_output:\n",
        "    plot_ecdf_histogram_comparison()"
      ],
      "metadata": {
        "id": "psK_1mcjNf4E"
      },
      "execution_count": null,
      "outputs": []
    },
    {
      "cell_type": "markdown",
      "source": [
        "## 4. Smooth the EDF"
      ],
      "metadata": {
        "id": "4Q-4mfsqWARi"
      }
    },
    {
      "cell_type": "code",
      "source": [
        "# @title\n",
        "# --- Block 4: Plot of ECDF, Smoothed ECDF, and True CDF ---\n",
        "\n",
        "def plot_smoothed_cdfs():\n",
        "    fig, ax = plt.subplots(figsize=(10, 6))\n",
        "\n",
        "    if current_data_points:\n",
        "        min_val_data = np.min(current_data_points)\n",
        "        max_val_data = np.max(current_data_points)\n",
        "    else:\n",
        "        min_val_data = TRUE_DISTRIBUTION_MEAN - 3 * TRUE_DISTRIBUTION_STD_DEV\n",
        "        max_val_data = TRUE_DISTRIBUTION_MEAN + 3 * TRUE_DISTRIBUTION_STD_DEV\n",
        "    x_plot_min = min_val_data - PLOT_BUFFER\n",
        "    x_plot_max = max_val_data + PLOT_BUFFER\n",
        "    x_vals_plot_range = np.linspace(x_plot_min, x_plot_max, KDE_NUM_POINTS)\n",
        "\n",
        "    # True CDF\n",
        "    y_vals_true_cdf = stats.norm.cdf(x_vals_plot_range, loc=TRUE_DISTRIBUTION_MEAN, scale=TRUE_DISTRIBUTION_STD_DEV)\n",
        "    ax.plot(x_vals_plot_range, y_vals_true_cdf,\n",
        "            label=f'True CDF (Normal({TRUE_DISTRIBUTION_MEAN}, {TRUE_DISTRIBUTION_STD_DEV}))',\n",
        "            color='blue', linewidth=3)\n",
        "\n",
        "    # Original ECDF (as context)\n",
        "    x_ecdf, y_ecdf = calculate_ecdf_plot_points(current_data_points, x_plot_min, x_plot_max)\n",
        "    ax.step(x_ecdf, y_ecdf, where='post',\n",
        "            label=f'Original ECDF (n={len(current_data_points)} samples)',\n",
        "            color='red', linestyle=':', linewidth=1.5, alpha=0.7)\n",
        "\n",
        "    # Smoothed CDF\n",
        "    x_smoothed_cdf, y_smoothed_cdf = get_smoothed_cdf_and_x_range(current_data_points, TRUE_DISTRIBUTION_MEAN, TRUE_DISTRIBUTION_STD_DEV)\n",
        "    ax.plot(x_smoothed_cdf, y_smoothed_cdf,\n",
        "            label='Smoothed ECDF (KDE)',\n",
        "            color='purple', linewidth=3, linestyle='-')\n",
        "\n",
        "    ax.set_title('Block 4: Smoothed Empirical CDF')\n",
        "    ax.set_xlabel('Value (X)')\n",
        "    ax.set_ylabel('P(X <= x)')\n",
        "    ax.legend(loc='upper left')\n",
        "    ax.grid(True, linestyle=':', alpha=0.7)\n",
        "    ax.set_ylim(0, 1.05)\n",
        "    ax.set_xlim(x_plot_min, x_plot_max)\n",
        "    plt.tight_layout()\n",
        "    plt.show()\n",
        "\n",
        "# --- Interactive Elements for Block 4 ---\n",
        "block4_output = widgets.Output()\n",
        "refresh_smoothed_cdf_button = widgets.Button(description=\"Refresh Smoothed CDF\")\n",
        "\n",
        "def on_refresh_smoothed_cdf_clicked(b):\n",
        "    with block4_output:\n",
        "        clear_output(wait=True)\n",
        "        plot_smoothed_cdfs()\n",
        "\n",
        "refresh_smoothed_cdf_button.on_click(on_refresh_smoothed_cdf_clicked)\n",
        "\n",
        "print(\"Block 4: Visualize the ECDF, its smoothed version (using KDE), and the True CDF.\")\n",
        "print(\"Click 'Refresh Smoothed CDF' to update based on current data from Block 1.\")\n",
        "display(refresh_smoothed_cdf_button, block4_output)\n",
        "\n",
        "# Initial display for Block 4\n",
        "with block4_output:\n",
        "    plot_smoothed_cdfs()"
      ],
      "metadata": {
        "id": "SKgr1W84RsBX"
      },
      "execution_count": null,
      "outputs": []
    },
    {
      "cell_type": "markdown",
      "source": [
        "## 5. Compare the histograms of samples from smoothed EDF and true CDF"
      ],
      "metadata": {
        "id": "3HoqauewWQ-q"
      }
    },
    {
      "cell_type": "code",
      "source": [
        "# @title\n",
        "# --- Block 5: Comparison of Histograms (Smoothed ECDF Samples vs. True CDF Samples) ---\n",
        "\n",
        "def plot_smoothed_ecdf_histogram_comparison():\n",
        "    if not current_data_points:\n",
        "        with block5_output: clear_output(wait=True); display(widgets.HTML(\"<b>No data points available from Block 1 to plot histograms.</b>\"))\n",
        "        return\n",
        "\n",
        "    x_smoothed_cdf, y_smoothed_cdf = get_smoothed_cdf_and_x_range(current_data_points, TRUE_DISTRIBUTION_MEAN, TRUE_DISTRIBUTION_STD_DEV)\n",
        "    smoothed_ecdf_sampled_data = sample_from_smoothed_cdf(x_smoothed_cdf, y_smoothed_cdf, NUM_SAMPLES_FOR_HISTOGRAMS)\n",
        "\n",
        "    true_cdf_sampled_data = stats.norm.rvs(\n",
        "        loc=TRUE_DISTRIBUTION_MEAN,\n",
        "        scale=TRUE_DISTRIBUTION_STD_DEV,\n",
        "        size=NUM_SAMPLES_FOR_HISTOGRAMS\n",
        "    )\n",
        "\n",
        "    fig, (ax1, ax2) = plt.subplots(1, 2, figsize=(14, 6), sharey=True, sharex=True)\n",
        "\n",
        "    # Determine common bins and x-range\n",
        "    all_samples = np.concatenate([smoothed_ecdf_sampled_data, true_cdf_sampled_data])\n",
        "    min_val_hist = np.min(all_samples)\n",
        "    max_val_hist = np.max(all_samples)\n",
        "    bins = np.linspace(min_val_hist, max_val_hist, 50)\n",
        "\n",
        "    # Histogram from Smoothed ECDF samples\n",
        "    ax1.hist(smoothed_ecdf_sampled_data, bins=bins, density=True, alpha=0.7, color='purple',\n",
        "             label=f'From Smoothed ECDF (n_orig={len(current_data_points)})')\n",
        "    ax1.set_title('Samples from Smoothed ECDF')\n",
        "    ax1.set_xlabel('Value (X)')\n",
        "    ax1.set_ylabel('Density')\n",
        "    ax1.legend()\n",
        "    ax1.grid(True, linestyle=':', alpha=0.7)\n",
        "\n",
        "    # Histogram from True CDF samples\n",
        "    ax2.hist(true_cdf_sampled_data, bins=bins, density=True, alpha=0.7, color='blue',\n",
        "             label=f'From True CDF (N={TRUE_DISTRIBUTION_MEAN}, S={TRUE_DISTRIBUTION_STD_DEV})')\n",
        "    ax2.set_title('Samples from True CDF')\n",
        "    ax2.set_xlabel('Value (X)')\n",
        "    ax2.legend()\n",
        "    ax2.grid(True, linestyle=':', alpha=0.7)\n",
        "\n",
        "    plt.suptitle(f'Block 5: Comparing Sample Distributions ({NUM_SAMPLES_FOR_HISTOGRAMS} samples each)')\n",
        "    plt.tight_layout(rect=[0, 0.03, 1, 0.95])\n",
        "    plt.show()\n",
        "\n",
        "# --- Interactive Elements for Block 5 ---\n",
        "block5_output = widgets.Output()\n",
        "refresh_smoothed_hist_button = widgets.Button(description=\"Refresh Smoothed Histograms\")\n",
        "\n",
        "def on_refresh_smoothed_hist_clicked(b):\n",
        "    with block5_output:\n",
        "        clear_output(wait=True)\n",
        "        plot_smoothed_ecdf_histogram_comparison()\n",
        "\n",
        "refresh_smoothed_hist_button.on_click(on_refresh_smoothed_hist_clicked)\n",
        "\n",
        "print(\"Block 5: Compare samples generated from the Smoothed ECDF to samples from the True CDF.\")\n",
        "print(\"Click 'Refresh Smoothed Histograms' to update based on current data from Block 1.\")\n",
        "display(refresh_smoothed_hist_button, block5_output)\n",
        "\n",
        "# Initial display for Block 5\n",
        "with block5_output:\n",
        "    plot_smoothed_ecdf_histogram_comparison()"
      ],
      "metadata": {
        "id": "Tgu2jq-oRxH_"
      },
      "execution_count": null,
      "outputs": []
    },
    {
      "cell_type": "markdown",
      "source": [
        "# Review numpy"
      ],
      "metadata": {
        "id": "ZC2YkNPrcAZS"
      }
    },
    {
      "cell_type": "markdown",
      "source": [
        "## 1. 1D and 2D array"
      ],
      "metadata": {
        "id": "mkje7cogcJD3"
      }
    },
    {
      "cell_type": "code",
      "source": [],
      "metadata": {
        "id": "lFtoLyz7cEus"
      },
      "execution_count": null,
      "outputs": []
    },
    {
      "cell_type": "markdown",
      "source": [
        "## 2. Indexing"
      ],
      "metadata": {
        "id": "9g0Z4LNocdRT"
      }
    },
    {
      "cell_type": "code",
      "source": [],
      "metadata": {
        "id": "gbCe8eSYccxX"
      },
      "execution_count": null,
      "outputs": []
    },
    {
      "cell_type": "markdown",
      "source": [
        "## 3. Mathematical operations"
      ],
      "metadata": {
        "id": "U0REjpEGcXKY"
      }
    },
    {
      "cell_type": "code",
      "source": [],
      "metadata": {
        "id": "cAtBqUROckFs"
      },
      "execution_count": null,
      "outputs": []
    },
    {
      "cell_type": "markdown",
      "source": [
        "## 4. Boolean operation"
      ],
      "metadata": {
        "id": "LZgOTZJ-cyD4"
      }
    },
    {
      "cell_type": "code",
      "source": [],
      "metadata": {
        "id": "y1DXHpIDcz4U"
      },
      "execution_count": null,
      "outputs": []
    },
    {
      "cell_type": "markdown",
      "source": [
        "## 5. Boolean indexing"
      ],
      "metadata": {
        "id": "oKkEX1Toc32o"
      }
    },
    {
      "cell_type": "code",
      "source": [],
      "metadata": {
        "id": "EV44W2rBc5e6"
      },
      "execution_count": null,
      "outputs": []
    },
    {
      "cell_type": "markdown",
      "source": [
        "# Exercise: Robust mean estimation\n",
        "\n",
        "The goal of this exercise is to develop a method to estimate the mean of the distribution in presence of outliers.\n",
        "\n",
        "Below, we generate some data from a normal distribution with mean = 50; however, the data has been contaminated with some outliers. Your task is to implement a function that takes the numpy array of contaminated data and returns your estimate of the mean of the normal distribution."
      ],
      "metadata": {
        "id": "sXkhO2u7fVCL"
      }
    },
    {
      "cell_type": "code",
      "source": [
        "# @title\n",
        "# --- Configuration for Data Generation ---\n",
        "TRUE_NORMAL_MEAN = 50.0       # The true mean of the underlying normal distribution\n",
        "TRUE_NORMAL_STD_DEV = 5.0    # The true standard deviation of the underlying normal distribution\n",
        "NUM_SAMPLES = 100            # Total number of data points\n",
        "OUTLIER_PERCENTAGE = 0.10    # 10% of the data will be outliers\n",
        "OUTLIER_MIN_VAL = 150.0      # Minimum value for the large outliers\n",
        "OUTLIER_MAX_VAL = 200.0      # Maximum value for the large outliers\n",
        "FIXED_SEED = 42              # Fixed seed for reproducible data generation\n",
        "\n",
        "contaminated_data = np.array([])\n",
        "\n",
        "# --- Data Generation Function ---\n",
        "def generate_contaminated_data(seed=None):\n",
        "    \"\"\"\n",
        "    Generates data from a normal distribution with a percentage of extreme outliers.\n",
        "    \"\"\"\n",
        "\n",
        "    np.random.seed(seed) # Set the seed for reproducibility\n",
        "\n",
        "    num_outliers = int(NUM_SAMPLES * OUTLIER_PERCENTAGE)\n",
        "    num_normal_samples = NUM_SAMPLES - num_outliers\n",
        "\n",
        "    # Generate normal data\n",
        "    normal_samples = np.random.normal(TRUE_NORMAL_MEAN, TRUE_NORMAL_STD_DEV, num_normal_samples)\n",
        "\n",
        "    # Generate outlier data (explicitly very large values)\n",
        "    outliers = np.random.uniform(OUTLIER_MIN_VAL, OUTLIER_MAX_VAL, num_outliers)\n",
        "\n",
        "    # Combine and shuffle the data\n",
        "    contaminated_data = np.concatenate((normal_samples, outliers))\n",
        "    np.random.shuffle(contaminated_data)\n",
        "\n",
        "    print(f\"Generated {NUM_SAMPLES} data points from a fixed seed ({seed}).\")\n",
        "    print(f\"{num_normal_samples} normal samples, {num_outliers} outliers.\")\n",
        "    print(f\"True mean of the *uncontaminated* normal distribution: {TRUE_NORMAL_MEAN:.2f}\")\n",
        "\n",
        "    return contaminated_data\n",
        "\n",
        "# --- Plotting Function ---\n",
        "def plot_data(contaminated_data):\n",
        "    fig, ax = plt.subplots(figsize=(10, 6))\n",
        "\n",
        "    if contaminated_data.size == 0:\n",
        "        ax.text(0.5, 0.5, \"No data generated. Run the cell above to generate data.\",\n",
        "                horizontalalignment='center', verticalalignment='center',\n",
        "                transform=ax.transAxes, fontsize=16, color='gray')\n",
        "        ax.set_title(\"Data Preview\")\n",
        "        ax.set_xlabel(\"Value\")\n",
        "        ax.set_ylabel(\"Count\")\n",
        "        plt.show()\n",
        "        return\n",
        "\n",
        "    ax.hist(contaminated_data, bins=30, density=False, alpha=0.7, color='lightgray', edgecolor='black')\n",
        "    ax.axvline(TRUE_NORMAL_MEAN, color='blue', linestyle='--', linewidth=2, label=f'True Normal Mean: {TRUE_NORMAL_MEAN:.2f}')\n",
        "\n",
        "    # Also show the naive mean calculation as a comparison\n",
        "    naive_mean = np.mean(contaminated_data)\n",
        "    ax.axvline(naive_mean, color='red', linestyle=':', linewidth=2, label=f'Naive Mean (all data): {naive_mean:.2f}')\n",
        "\n",
        "\n",
        "    ax.set_title('Contaminated Data Distribution')\n",
        "    ax.set_xlabel('Value')\n",
        "    ax.set_ylabel('Frequency')\n",
        "    ax.legend()\n",
        "    ax.grid(True, linestyle=':', alpha=0.7)\n",
        "    plt.tight_layout()\n",
        "    plt.show()\n",
        "\n",
        "\n",
        "contaminated_data = generate_contaminated_data(seed=FIXED_SEED)\n",
        "plot_data(contaminated_data)"
      ],
      "metadata": {
        "id": "zEVKN8c8fXhf",
        "colab": {
          "base_uri": "https://localhost:8080/",
          "height": 451
        },
        "outputId": "1e56aaff-059f-4d57-baef-ff69484c6a5b"
      },
      "execution_count": 6,
      "outputs": [
        {
          "output_type": "stream",
          "name": "stdout",
          "text": [
            "Generated 100 data points from a fixed seed (42).\n",
            "90 normal samples, 10 outliers.\n",
            "True mean of the *uncontaminated* normal distribution: 50.00\n"
          ]
        },
        {
          "output_type": "display_data",
          "data": {
            "text/plain": [
              "<Figure size 1000x600 with 1 Axes>"
            ],
            "image/png": "[encoded data removed]"
          },
          "metadata": {}
        }
      ]
    },
    {
      "cell_type": "code",
      "source": [
        "contaminated_data"
      ],
      "metadata": {
        "id": "f7aIoav8k71m",
        "colab": {
          "base_uri": "https://localhost:8080/"
        },
        "collapsed": true,
        "outputId": "a2869410-04a7-494b-f3fb-b58e4347ab7e"
      },
      "execution_count": 7,
      "outputs": [
        {
          "output_type": "execute_result",
          "data": {
            "text/plain": [
              "array([ 46.99146694,  45.80391238,  40.43359878,  50.85684141,\n",
              "        53.83717365,  57.32824384, 194.804565  ,  57.61514928,\n",
              "        51.71809145,  41.37541084,  48.50496325,  51.20981136,\n",
              "        54.87772564, 171.35538943,  54.11272456,  47.49121478,\n",
              "        50.98430618,  47.60412881,  57.38947022,  44.01896688,\n",
              "        46.40077896, 190.9007383 ,  54.06262911,  53.6923329 ,\n",
              "       193.03652916,  41.18479922,  51.78556286,  49.42175859,\n",
              "        52.71280022,  48.54153125,  50.33764102, 165.90017375,\n",
              "        47.27808638,  51.87849009,  56.78120014,  57.82321828,\n",
              "        51.57123666,  51.80697803,  57.89606408,  55.01766449,\n",
              "        47.69680615,  42.60739005,  49.63994939,  50.55461295,\n",
              "        49.8208698 ,  43.89578175,  42.93848149,  40.06215543,\n",
              "        46.99680655,  36.90127448,  45.95753199, 161.39675813,\n",
              "        49.93251388,  47.18856235,  55.28561113,  47.68291154,\n",
              "        48.8711185 ,  48.82931522,  44.71144536,  47.40864891,\n",
              "        48.82923313, 176.9671121 ,  40.20164938,  44.46832513,\n",
              "        44.9358444 , 194.62794992,  55.15499761,  51.80818013,\n",
              "        47.35119898, 190.37200776,  46.61539   ,  54.10951252,\n",
              "        45.45987962,  52.48357077,  53.05838144,  50.43523534,\n",
              "        48.90164056,  52.56633717,  54.6564006 ,  53.23844269,\n",
              "        49.30867849,  43.35906976,  47.67135123,  54.57701059,\n",
              "        48.45393812, 155.50259623,  48.0745886 ,  51.64375555,\n",
              "        59.26139092,  51.65631716,  50.45880388,  42.87625907,\n",
              "        48.49448152,  51.62041985,  51.04431798,  49.07170512,\n",
              "        47.65262807,  44.24503211,  57.69018283,  46.77440123])"
            ]
          },
          "metadata": {},
          "execution_count": 7
        }
      ]
    },
    {
      "cell_type": "code",
      "source": [
        "# INSTRUCTIONS: Implement the `estimate_mean` function below.\n",
        "\n",
        "def estimate_mean(data):\n",
        "    \"\"\"\n",
        "    Estimates the mean of an underlying normal distribution from contaminated data.\n",
        "\n",
        "    Args:\n",
        "        data (np.array or list): A 1D array of numerical data, potentially containing outliers.\n",
        "\n",
        "    Returns:\n",
        "        float: Your robust estimate of the mean of the normal distribution.\n",
        "    \"\"\"\n",
        "    # --- YOUR CODE GOES HERE ---\n",
        "    data = np.sort(data)\n",
        "    trim_percent = OUTLIER_PERCENTAGE\n",
        "    n = len(data)\n",
        "    k = int(n * trim_percent)\n",
        "\n",
        "    trimmed_data = data[ : n - k]\n",
        "    estimated_mean = np.mean(trimmed_data)\n",
        "\n",
        "\n",
        "    return float(estimated_mean)"
      ],
      "metadata": {
        "id": "3WdX6plyfYjN"
      },
      "execution_count": 17,
      "outputs": []
    },
    {
      "cell_type": "code",
      "source": [
        "# Evaluation\n",
        "\n",
        "estimated_mean = estimate_mean(contaminated_data)\n",
        "absolute_error = abs(estimated_mean - TRUE_NORMAL_MEAN)"
      ],
      "metadata": {
        "id": "5Sa7wT4niKbK"
      },
      "execution_count": 16,
      "outputs": []
    },
    {
      "cell_type": "markdown",
      "source": [
        "## Please explain the idea behind your estimation method in the text block below:"
      ],
      "metadata": {
        "id": "x1M3ISwjmcHp"
      }
    },
    {
      "cell_type": "markdown",
      "source": [
        "Answer:\n",
        "\n",
        "ใช้เนื่องจากoutlier มีค่าที่โดดไปจากข้อมูลอื่นเป็นอย่างมากแต่ไม่ได้มีจำนวนมากจึงเลือกtrimmed mean เพื่อมาหาค่าเฉลี่ยที่ตัดข้อมูลหัวและท้ายออก แต่ในกรณีนี้outlierมีฝั่งเดียวเลยตัดแค่0.1ของฝั่งที่มีค่ามาก"
      ],
      "metadata": {
        "id": "0HvtEE3jmvoy"
      }
    }
  ]
}