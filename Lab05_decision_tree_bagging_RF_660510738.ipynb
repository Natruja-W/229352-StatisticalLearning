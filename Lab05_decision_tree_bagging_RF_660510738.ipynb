{
  "cells": [
    {
      "cell_type": "markdown",
      "metadata": {
        "id": "view-in-github",
        "colab_type": "text"
      },
      "source": [
        "<a href=\"https://colab.research.google.com/github/Natruja-W/229352-StatisticalLearning/blob/main/Lab05_decision_tree_bagging_RF_660510738.ipynb\" target=\"_parent\"><img src=\"https://colab.research.google.com/assets/colab-badge.svg\" alt=\"Open In Colab\"/></a>"
      ]
    },
    {
      "cell_type": "markdown",
      "metadata": {
        "id": "jTGPQunUMe9n"
      },
      "source": [
        "### Statistical Learning for Data Science 2 (229352)\n",
        "#### Instructor: Donlapark Ponnoprat\n",
        "\n",
        "#### [Course website](https://donlapark.pages.dev/229352/)\n",
        "\n",
        "## Lab #5"
      ]
    },
    {
      "cell_type": "markdown",
      "metadata": {
        "id": "x_YkUVk-Me9r"
      },
      "source": [
        "#### Load data at: https://donlapark.pages.dev/229352/heart_disease.csv\n",
        "\n",
        "* Decision tree ([documentation](https://scikit-learn.org/stable/modules/generated/sklearn.tree.DecisionTreeClassifier.html))\n",
        "* Random hyperparameter search using cross-validation ([documentation](https://scikit-learn.org/stable/modules/generated/sklearn.model_selection.RandomizedSearchCV.html))"
      ]
    },
    {
      "cell_type": "code",
      "execution_count": null,
      "metadata": {
        "id": "tShvCHLSAsu6"
      },
      "outputs": [],
      "source": [
        "import pandas as pd\n",
        "import graphviz\n",
        "\n",
        "from sklearn.impute import SimpleImputer\n",
        "from sklearn.model_selection import GridSearchCV, train_test_split\n",
        "from sklearn.pipeline import Pipeline\n",
        "\n",
        "from sklearn.tree import DecisionTreeClassifier, export_graphviz\n",
        "from sklearn.ensemble import BaggingClassifier, RandomForestClassifier\n",
        "\n",
        "# import data\n",
        "data = pd.read_csv(\"heart_disease.csv\", na_values=\"?\")\n",
        "data.head()"
      ]
    },
    {
      "cell_type": "code",
      "execution_count": 10,
      "metadata": {
        "id": "5_AisL0BMe9w"
      },
      "outputs": [],
      "source": [
        "\n",
        "# split into X and y\n",
        "y = data[\"label\"]\n",
        "X = data.drop(\"label\", axis=1)\n",
        "\n",
        "# split into training and test sets\n",
        "X_train, X_test, y_train, y_test = train_test_split(X, y)\n",
        "\n",
        "# impute missing values\n",
        "imputer = SimpleImputer(strategy=\"mean\")\n",
        "X_train = imputer.fit_transform(X_train)\n",
        "X_test = imputer.transform(X_test)\n",
        "\n",
        "# Create a decision tree\n",
        "clf = DecisionTreeClassifier()"
      ]
    },
    {
      "cell_type": "markdown",
      "metadata": {
        "id": "tmE7nqYPEy-G"
      },
      "source": [
        "![5CV](https://scikit-learn.org/stable/_images/grid_search_cross_validation.png)"
      ]
    },
    {
      "cell_type": "code",
      "execution_count": null,
      "metadata": {
        "id": "HRlxCcrvBN9S",
        "collapsed": true
      },
      "outputs": [],
      "source": [
        "params = {'max_depth': [3, 6, 9, 12]}\n",
        "\n",
        "gridcv = GridSearchCV(clf, params, scoring='accuracy', cv=5)\n",
        "gridcv.fit(X_train, y_train)"
      ]
    },
    {
      "cell_type": "code",
      "execution_count": null,
      "metadata": {
        "id": "cCd-8EFBBR5F",
        "collapsed": true
      },
      "outputs": [],
      "source": [
        "gridcv.best_estimator_"
      ]
    },
    {
      "cell_type": "code",
      "execution_count": null,
      "metadata": {
        "id": "jv4yI-fYBSBM"
      },
      "outputs": [],
      "source": [
        "plot_data = export_graphviz(gridcv.best_estimator_,\n",
        "                            out_file=None,\n",
        "                            filled=True,\n",
        "                            rounded=True,\n",
        "                            feature_names=data.columns[:-1],\n",
        "                            class_names=['0', '1'])\n",
        "\n",
        "graph = graphviz.Source(plot_data)\n",
        "graph"
      ]
    },
    {
      "cell_type": "markdown",
      "source": [
        "## Bagged decision trees\n",
        "* Bagging classifier ([documentation](https://scikit-learn.org/stable/modules/generated/sklearn.ensemble.BaggingClassifier.html))"
      ],
      "metadata": {
        "id": "bpMaSjmBPfJv"
      }
    },
    {
      "cell_type": "code",
      "source": [
        "clf = DecisionTreeClassifier()"
      ],
      "metadata": {
        "id": "6_NDqbkzPImm"
      },
      "execution_count": 16,
      "outputs": []
    },
    {
      "cell_type": "code",
      "source": [
        "from sklearn.metrics import classification_report"
      ],
      "metadata": {
        "id": "Izn02-LgmOdg"
      },
      "execution_count": 19,
      "outputs": []
    },
    {
      "cell_type": "code",
      "source": [
        "bagged_trees = BaggingClassifier(estimator = clf, n_estimators=100, random_state=0)\n",
        "\n",
        "bagged_trees.fit(X_train, y_train)\n",
        "print(classification_report(y_test, bagged_trees.predict(X_test)))"
      ],
      "metadata": {
        "colab": {
          "base_uri": "https://localhost:8080/"
        },
        "id": "BF46VK23j2Nx",
        "outputId": "694473a1-6e8d-4068-913a-16d55174e629"
      },
      "execution_count": 20,
      "outputs": [
        {
          "output_type": "stream",
          "name": "stdout",
          "text": [
            "              precision    recall  f1-score   support\n",
            "\n",
            "           0       0.82      0.78      0.80        41\n",
            "           1       0.76      0.80      0.78        35\n",
            "\n",
            "    accuracy                           0.79        76\n",
            "   macro avg       0.79      0.79      0.79        76\n",
            "weighted avg       0.79      0.79      0.79        76\n",
            "\n"
          ]
        }
      ]
    },
    {
      "cell_type": "markdown",
      "source": [
        "## Random forest classifier\n",
        "* Random forest ([documentation](https://scikit-learn.org/stable/modules/generated/sklearn.ensemble.RandomForestClassifier.html))"
      ],
      "metadata": {
        "id": "xnCpla0JQqNM"
      }
    },
    {
      "cell_type": "code",
      "source": [
        "random_forest = RandomForestClassifier(n_estimators=100, random_state=0)\n",
        "random_forest.fit(X_train, y_train)\n",
        "print(classification_report(y_test, random_forest.predict(X_test)))"
      ],
      "metadata": {
        "id": "wBZHX4af1H5D",
        "colab": {
          "base_uri": "https://localhost:8080/"
        },
        "outputId": "f0923207-4642-4f69-8a00-74e4e8f80a45"
      },
      "execution_count": 21,
      "outputs": [
        {
          "output_type": "stream",
          "name": "stdout",
          "text": [
            "              precision    recall  f1-score   support\n",
            "\n",
            "           0       0.85      0.80      0.82        41\n",
            "           1       0.78      0.83      0.81        35\n",
            "\n",
            "    accuracy                           0.82        76\n",
            "   macro avg       0.81      0.82      0.82        76\n",
            "weighted avg       0.82      0.82      0.82        76\n",
            "\n"
          ]
        }
      ]
    },
    {
      "cell_type": "markdown",
      "metadata": {
        "id": "wtcscwZPBRJ2"
      },
      "source": [
        "#### Exercise\n",
        "1. Study the hyperparameters of three models: [Decision tree](https://scikit-learn.org/stable/modules/generated/sklearn.tree.DecisionTreeClassifier.html), [Bagged Decision Trees](https://scikit-learn.org/stable/modules/generated/sklearn.ensemble.BaggingClassifier.html) and [Random Forest](https://scikit-learn.org/stable/modules/generated/sklearn.ensemble.RandomForestClassifier.html)\n",
        "2. For each model, use pipeline+grid search cross-validation across multiple hyperparameters to find the best model.\n",
        "* Decision tree: choose at least 3 hyperparameters\n",
        "* Bagged decision trees: choose at least 3 hyperparameters\n",
        "* Random forest: choose at least 3 hyperparameters\n",
        "3. For each model, compute the `f1_macro` and `accuracy` score on the test set.\n",
        "* What is your best model?\n",
        "* Plot the best tree model\n",
        "* What hyperparameters did you choose? (explain in words, not in `sklearn's` parameter name)\n",
        "* What are the best values of your hyperparameters?"
      ]
    },
    {
      "cell_type": "code",
      "source": [
        "from sklearn.metrics import f1_score, accuracy_score"
      ],
      "metadata": {
        "id": "_12Bmc_MzLV8"
      },
      "execution_count": 25,
      "outputs": []
    },
    {
      "cell_type": "markdown",
      "source": [
        "Decision Tree"
      ],
      "metadata": {
        "id": "3LuP5QQDnBxe"
      }
    },
    {
      "cell_type": "code",
      "source": [
        "pipe = Pipeline([\n",
        "    ('imputer', SimpleImputer(strategy='mean')),\n",
        "    ('tree', DecisionTreeClassifier())\n",
        "])\n",
        "\n",
        "param_grid = {\n",
        "    'tree__max_depth': [3, 5, 7, 9, 11],\n",
        "    'tree__min_samples_split': [2, 5, 8, 10],\n",
        "    'tree__min_samples_leaf': [1, 2, 4]\n",
        "}\n",
        "\n",
        "grid_search = GridSearchCV(pipe, param_grid, cv=5, scoring='accuracy', n_jobs=-1)\n",
        "\n",
        "grid_search.fit(X_train, y_train)\n",
        "\n",
        "y_pred = grid_search.predict(X_test)\n",
        "\n",
        "print(f\"Best parameters: {grid_search.best_params_}\")\n",
        "print(f\"accuracy: {accuracy_score(y_test, y_pred):.3f}\")\n",
        "print(f\"f1_macro: {f1_score(y_test, y_pred, average='macro'):.3f}\")"
      ],
      "metadata": {
        "colab": {
          "base_uri": "https://localhost:8080/"
        },
        "id": "LIBRvG-9nLyr",
        "outputId": "7346fbbf-fd09-479b-ac7b-902b1273f9d2"
      },
      "execution_count": 26,
      "outputs": [
        {
          "output_type": "stream",
          "name": "stdout",
          "text": [
            "Best parameters: {'tree__max_depth': 5, 'tree__min_samples_leaf': 2, 'tree__min_samples_split': 10}\n",
            "accuracy: 0.789\n",
            "f1_macro: 0.788\n"
          ]
        }
      ]
    },
    {
      "cell_type": "markdown",
      "source": [
        "Bagged Decision Tree"
      ],
      "metadata": {
        "id": "Wy43w0StnHT-"
      }
    },
    {
      "cell_type": "code",
      "source": [
        "pipe = Pipeline([\n",
        "    ('imputer', SimpleImputer(strategy='mean')),\n",
        "    ('bagged_tree', BaggingClassifier(random_state=0))\n",
        "])\n",
        "\n",
        "param_grid = {\n",
        "    'bagged_tree__n_estimators': [50, 100, 200],\n",
        "    'bagged_tree__max_samples': [0.5, 0.8, 1.0],\n",
        "    'bagged_tree__max_features': [0.5, 0.8, 1.0]\n",
        "}\n",
        "\n",
        "grid_search = GridSearchCV(pipe, param_grid, cv=5, scoring='accuracy', n_jobs=-1)\n",
        "\n",
        "grid_search.fit(X_train, y_train)\n",
        "\n",
        "y_pred = grid_search.predict(X_test)\n",
        "\n",
        "print(f\"Best parameters: {grid_search.best_params_}\")\n",
        "print(f\"accuracy: {accuracy_score(y_test, y_pred):.3f}\")\n",
        "print(f\"f1_macro: {f1_score(y_test, y_pred, average='macro'):.3f}\")"
      ],
      "metadata": {
        "colab": {
          "base_uri": "https://localhost:8080/"
        },
        "id": "W-kc5BxtqI_l",
        "outputId": "d6dab9b8-6366-43ce-fefa-b54e49be8cf3"
      },
      "execution_count": 27,
      "outputs": [
        {
          "output_type": "stream",
          "name": "stdout",
          "text": [
            "Best parameters: {'bagged_tree__max_features': 0.8, 'bagged_tree__max_samples': 0.5, 'bagged_tree__n_estimators': 50}\n",
            "accuracy: 0.789\n",
            "f1_macro: 0.789\n"
          ]
        }
      ]
    },
    {
      "cell_type": "markdown",
      "source": [
        "Random Forest"
      ],
      "metadata": {
        "id": "VibWPEqVnJ7P"
      }
    },
    {
      "cell_type": "code",
      "source": [
        "pipe = Pipeline([\n",
        "    ('imputer', SimpleImputer(strategy='mean')),\n",
        "    ('random_forest', RandomForestClassifier(random_state=0))\n",
        "])\n",
        "\n",
        "param_grid = {\n",
        "    'random_forest__n_estimators': [50, 100, 200],\n",
        "    'random_forest__max_depth': [3, 5, 7, 10],\n",
        "    'random_forest__min_samples_leaf': [1, 2, 4]\n",
        "}\n",
        "\n",
        "grid_search = GridSearchCV(pipe, param_grid, cv=5, scoring='accuracy', n_jobs=-1)\n",
        "\n",
        "grid_search.fit(X_train, y_train)\n",
        "\n",
        "y_pred = grid_search.predict(X_test)\n",
        "\n",
        "print(f\"Best parameters: {grid_search.best_params_}\")\n",
        "print(f\"accuracy: {accuracy_score(y_test, y_pred):.3f}\")\n",
        "print(f\"f1_macro: {f1_score(y_test, y_pred, average='macro'):.3f}\")"
      ],
      "metadata": {
        "colab": {
          "base_uri": "https://localhost:8080/"
        },
        "id": "u2DWFYbRtIqY",
        "outputId": "481df764-ef3d-4e97-8f61-5f89a53e5b2b"
      },
      "execution_count": 29,
      "outputs": [
        {
          "output_type": "stream",
          "name": "stdout",
          "text": [
            "Best parameters: {'random_forest__max_depth': 10, 'random_forest__min_samples_leaf': 4, 'random_forest__n_estimators': 100}\n",
            "accuracy: 0.829\n",
            "f1_macro: 0.828\n"
          ]
        }
      ]
    },
    {
      "cell_type": "markdown",
      "source": [
        "**1.What is your best model?**\n",
        "\n",
        "The best model is Random Forest that represented by accuracy 0.829 and f1_macro 0.828\n",
        "\n",
        "\n",
        "**2.What hyperparameters did you choose?**\n",
        "\n",
        "Chosen hyperparameters are The maximum depth of the tree, The minimum number of samples required to be at a leaf node, and The number of trees in the forest\n",
        "\n",
        "\n",
        "**3.What are the best values of your hyperparameters?**\n",
        "\n",
        "The best values for hyperparameters are RandomForestClassifier(random_state=0, n_estimators = 10, max_depth = 10, )"
      ],
      "metadata": {
        "id": "jxOx6BWO1IwE"
      }
    },
    {
      "cell_type": "code",
      "source": [
        "best_forest = grid_search.best_estimator_.named_steps['random_forest']\n",
        "\n",
        "best_tree = best_forest.estimators_[0]\n",
        "\n",
        "plot_data = export_graphviz(best_tree,\n",
        "                            out_file=None,\n",
        "                            filled=True,\n",
        "                            rounded=True,\n",
        "                            feature_names=data.columns[:-1],\n",
        "                            class_names=['0', '1'])\n",
        "\n",
        "graph = graphviz.Source(plot_data)\n",
        "graph"
      ],
      "metadata": {
        "colab": {
          "base_uri": "https://localhost:8080/",
          "height": 1000
        },
        "id": "PI7zBX0j4Amg",
        "outputId": "fbb672b8-85b3-4853-b9f1-dc1cadfcaca6"
      },
      "execution_count": 37,
      "outputs": [
        {
          "output_type": "execute_result",
          "data": {
            "image/svg+xml": "<?xml version=\"1.0\" encoding=\"UTF-8\" standalone=\"no\"?>\n<!DOCTYPE svg PUBLIC \"-//W3C//DTD SVG 1.1//EN\"\n \"http://www.w3.org/Graphics/SVG/1.1/DTD/svg11.dtd\">\n<!-- Generated by graphviz version 2.43.0 (0)\n -->\n<!-- Title: Tree Pages: 1 -->\n<svg width=\"1758pt\" height=\"909pt\"\n viewBox=\"0.00 0.00 1758.00 909.00\" xmlns=\"http://www.w3.org/2000/svg\" xmlns:xlink=\"http://www.w3.org/1999/xlink\">\n<g id=\"graph0\" class=\"graph\" transform=\"scale(1 1) rotate(0) translate(4 905)\">\n<title>Tree</title>\n<polygon fill=\"white\" stroke=\"transparent\" points=\"-4,4 -4,-905 1754,-905 1754,4 -4,4\"/>\n<!-- 0 -->\n<g id=\"node1\" class=\"node\">\n<title>0</title>\n<path fill=\"#f8dfcd\" stroke=\"black\" d=\"M1091.5,-901C1091.5,-901 998.5,-901 998.5,-901 992.5,-901 986.5,-895 986.5,-889 986.5,-889 986.5,-830 986.5,-830 986.5,-824 992.5,-818 998.5,-818 998.5,-818 1091.5,-818 1091.5,-818 1097.5,-818 1103.5,-824 1103.5,-830 1103.5,-830 1103.5,-889 1103.5,-889 1103.5,-895 1097.5,-901 1091.5,-901\"/>\n<text text-anchor=\"middle\" x=\"1045\" y=\"-885.8\" font-family=\"Helvetica,sans-Serif\" font-size=\"14.00\">oldpeak &lt;= 0.85</text>\n<text text-anchor=\"middle\" x=\"1045\" y=\"-870.8\" font-family=\"Helvetica,sans-Serif\" font-size=\"14.00\">gini = 0.489</text>\n<text text-anchor=\"middle\" x=\"1045\" y=\"-855.8\" font-family=\"Helvetica,sans-Serif\" font-size=\"14.00\">samples = 147</text>\n<text text-anchor=\"middle\" x=\"1045\" y=\"-840.8\" font-family=\"Helvetica,sans-Serif\" font-size=\"14.00\">value = [130, 97]</text>\n<text text-anchor=\"middle\" x=\"1045\" y=\"-825.8\" font-family=\"Helvetica,sans-Serif\" font-size=\"14.00\">class = 0</text>\n</g>\n<!-- 1 -->\n<g id=\"node2\" class=\"node\">\n<title>1</title>\n<path fill=\"#eca46f\" stroke=\"black\" d=\"M969.5,-782C969.5,-782 876.5,-782 876.5,-782 870.5,-782 864.5,-776 864.5,-770 864.5,-770 864.5,-711 864.5,-711 864.5,-705 870.5,-699 876.5,-699 876.5,-699 969.5,-699 969.5,-699 975.5,-699 981.5,-705 981.5,-711 981.5,-711 981.5,-770 981.5,-770 981.5,-776 975.5,-782 969.5,-782\"/>\n<text text-anchor=\"middle\" x=\"923\" y=\"-766.8\" font-family=\"Helvetica,sans-Serif\" font-size=\"14.00\">chol &lt;= 280.0</text>\n<text text-anchor=\"middle\" x=\"923\" y=\"-751.8\" font-family=\"Helvetica,sans-Serif\" font-size=\"14.00\">gini = 0.338</text>\n<text text-anchor=\"middle\" x=\"923\" y=\"-736.8\" font-family=\"Helvetica,sans-Serif\" font-size=\"14.00\">samples = 84</text>\n<text text-anchor=\"middle\" x=\"923\" y=\"-721.8\" font-family=\"Helvetica,sans-Serif\" font-size=\"14.00\">value = [102, 28]</text>\n<text text-anchor=\"middle\" x=\"923\" y=\"-706.8\" font-family=\"Helvetica,sans-Serif\" font-size=\"14.00\">class = 0</text>\n</g>\n<!-- 0&#45;&gt;1 -->\n<g id=\"edge1\" class=\"edge\">\n<title>0&#45;&gt;1</title>\n<path fill=\"none\" stroke=\"black\" d=\"M1002.67,-817.91C993.02,-808.65 982.68,-798.73 972.75,-789.21\"/>\n<polygon fill=\"black\" stroke=\"black\" points=\"974.89,-786.42 965.25,-782.02 970.05,-791.47 974.89,-786.42\"/>\n<text text-anchor=\"middle\" x=\"965.78\" y=\"-803.32\" font-family=\"Helvetica,sans-Serif\" font-size=\"14.00\">True</text>\n</g>\n<!-- 28 -->\n<g id=\"node29\" class=\"node\">\n<title>28</title>\n<path fill=\"#89c5f0\" stroke=\"black\" d=\"M1276,-782C1276,-782 1168,-782 1168,-782 1162,-782 1156,-776 1156,-770 1156,-770 1156,-711 1156,-711 1156,-705 1162,-699 1168,-699 1168,-699 1276,-699 1276,-699 1282,-699 1288,-705 1288,-711 1288,-711 1288,-770 1288,-770 1288,-776 1282,-782 1276,-782\"/>\n<text text-anchor=\"middle\" x=\"1222\" y=\"-766.8\" font-family=\"Helvetica,sans-Serif\" font-size=\"14.00\">cp &lt;= 3.5</text>\n<text text-anchor=\"middle\" x=\"1222\" y=\"-751.8\" font-family=\"Helvetica,sans-Serif\" font-size=\"14.00\">gini = 0.411</text>\n<text text-anchor=\"middle\" x=\"1222\" y=\"-736.8\" font-family=\"Helvetica,sans-Serif\" font-size=\"14.00\">samples = 63</text>\n<text text-anchor=\"middle\" x=\"1222\" y=\"-721.8\" font-family=\"Helvetica,sans-Serif\" font-size=\"14.00\">value = [28.0, 69.0]</text>\n<text text-anchor=\"middle\" x=\"1222\" y=\"-706.8\" font-family=\"Helvetica,sans-Serif\" font-size=\"14.00\">class = 1</text>\n</g>\n<!-- 0&#45;&gt;28 -->\n<g id=\"edge28\" class=\"edge\">\n<title>0&#45;&gt;28</title>\n<path fill=\"none\" stroke=\"black\" d=\"M1103.94,-819.54C1119.3,-809.39 1136,-798.35 1151.87,-787.86\"/>\n<polygon fill=\"black\" stroke=\"black\" points=\"1154.18,-790.53 1160.59,-782.09 1150.32,-784.69 1154.18,-790.53\"/>\n<text text-anchor=\"middle\" x=\"1155.59\" y=\"-802.89\" font-family=\"Helvetica,sans-Serif\" font-size=\"14.00\">False</text>\n</g>\n<!-- 2 -->\n<g id=\"node3\" class=\"node\">\n<title>2</title>\n<path fill=\"#e9975b\" stroke=\"black\" d=\"M783,-663C783,-663 697,-663 697,-663 691,-663 685,-657 685,-651 685,-651 685,-592 685,-592 685,-586 691,-580 697,-580 697,-580 783,-580 783,-580 789,-580 795,-586 795,-592 795,-592 795,-651 795,-651 795,-657 789,-663 783,-663\"/>\n<text text-anchor=\"middle\" x=\"740\" y=\"-647.8\" font-family=\"Helvetica,sans-Serif\" font-size=\"14.00\">chol &lt;= 178.5</text>\n<text text-anchor=\"middle\" x=\"740\" y=\"-632.8\" font-family=\"Helvetica,sans-Serif\" font-size=\"14.00\">gini = 0.251</text>\n<text text-anchor=\"middle\" x=\"740\" y=\"-617.8\" font-family=\"Helvetica,sans-Serif\" font-size=\"14.00\">samples = 65</text>\n<text text-anchor=\"middle\" x=\"740\" y=\"-602.8\" font-family=\"Helvetica,sans-Serif\" font-size=\"14.00\">value = [87, 15]</text>\n<text text-anchor=\"middle\" x=\"740\" y=\"-587.8\" font-family=\"Helvetica,sans-Serif\" font-size=\"14.00\">class = 0</text>\n</g>\n<!-- 1&#45;&gt;2 -->\n<g id=\"edge2\" class=\"edge\">\n<title>1&#45;&gt;2</title>\n<path fill=\"none\" stroke=\"black\" d=\"M864.34,-702C845.04,-689.65 823.48,-675.87 803.81,-663.3\"/>\n<polygon fill=\"black\" stroke=\"black\" points=\"805.52,-660.24 795.21,-657.8 801.75,-666.14 805.52,-660.24\"/>\n</g>\n<!-- 21 -->\n<g id=\"node22\" class=\"node\">\n<title>21</title>\n<path fill=\"#fceee5\" stroke=\"black\" d=\"M966,-663C966,-663 880,-663 880,-663 874,-663 868,-657 868,-651 868,-651 868,-592 868,-592 868,-586 874,-580 880,-580 880,-580 966,-580 966,-580 972,-580 978,-586 978,-592 978,-592 978,-651 978,-651 978,-657 972,-663 966,-663\"/>\n<text text-anchor=\"middle\" x=\"923\" y=\"-647.8\" font-family=\"Helvetica,sans-Serif\" font-size=\"14.00\">thal &lt;= 5.0</text>\n<text text-anchor=\"middle\" x=\"923\" y=\"-632.8\" font-family=\"Helvetica,sans-Serif\" font-size=\"14.00\">gini = 0.497</text>\n<text text-anchor=\"middle\" x=\"923\" y=\"-617.8\" font-family=\"Helvetica,sans-Serif\" font-size=\"14.00\">samples = 19</text>\n<text text-anchor=\"middle\" x=\"923\" y=\"-602.8\" font-family=\"Helvetica,sans-Serif\" font-size=\"14.00\">value = [15, 13]</text>\n<text text-anchor=\"middle\" x=\"923\" y=\"-587.8\" font-family=\"Helvetica,sans-Serif\" font-size=\"14.00\">class = 0</text>\n</g>\n<!-- 1&#45;&gt;21 -->\n<g id=\"edge21\" class=\"edge\">\n<title>1&#45;&gt;21</title>\n<path fill=\"none\" stroke=\"black\" d=\"M923,-698.91C923,-690.65 923,-681.86 923,-673.3\"/>\n<polygon fill=\"black\" stroke=\"black\" points=\"926.5,-673.02 923,-663.02 919.5,-673.02 926.5,-673.02\"/>\n</g>\n<!-- 3 -->\n<g id=\"node4\" class=\"node\">\n<title>3</title>\n<path fill=\"#d7ebfa\" stroke=\"black\" d=\"M654.5,-536.5C654.5,-536.5 583.5,-536.5 583.5,-536.5 577.5,-536.5 571.5,-530.5 571.5,-524.5 571.5,-524.5 571.5,-480.5 571.5,-480.5 571.5,-474.5 577.5,-468.5 583.5,-468.5 583.5,-468.5 654.5,-468.5 654.5,-468.5 660.5,-468.5 666.5,-474.5 666.5,-480.5 666.5,-480.5 666.5,-524.5 666.5,-524.5 666.5,-530.5 660.5,-536.5 654.5,-536.5\"/>\n<text text-anchor=\"middle\" x=\"619\" y=\"-521.3\" font-family=\"Helvetica,sans-Serif\" font-size=\"14.00\">gini = 0.494</text>\n<text text-anchor=\"middle\" x=\"619\" y=\"-506.3\" font-family=\"Helvetica,sans-Serif\" font-size=\"14.00\">samples = 6</text>\n<text text-anchor=\"middle\" x=\"619\" y=\"-491.3\" font-family=\"Helvetica,sans-Serif\" font-size=\"14.00\">value = [4, 5]</text>\n<text text-anchor=\"middle\" x=\"619\" y=\"-476.3\" font-family=\"Helvetica,sans-Serif\" font-size=\"14.00\">class = 1</text>\n</g>\n<!-- 2&#45;&gt;3 -->\n<g id=\"edge3\" class=\"edge\">\n<title>2&#45;&gt;3</title>\n<path fill=\"none\" stroke=\"black\" d=\"M698.02,-579.91C685.92,-568.21 672.73,-555.46 660.66,-543.78\"/>\n<polygon fill=\"black\" stroke=\"black\" points=\"662.92,-541.1 653.3,-536.67 658.06,-546.13 662.92,-541.1\"/>\n</g>\n<!-- 4 -->\n<g id=\"node5\" class=\"node\">\n<title>4</title>\n<path fill=\"#e89051\" stroke=\"black\" d=\"M783,-544C783,-544 697,-544 697,-544 691,-544 685,-538 685,-532 685,-532 685,-473 685,-473 685,-467 691,-461 697,-461 697,-461 783,-461 783,-461 789,-461 795,-467 795,-473 795,-473 795,-532 795,-532 795,-538 789,-544 783,-544\"/>\n<text text-anchor=\"middle\" x=\"740\" y=\"-528.8\" font-family=\"Helvetica,sans-Serif\" font-size=\"14.00\">age &lt;= 55.5</text>\n<text text-anchor=\"middle\" x=\"740\" y=\"-513.8\" font-family=\"Helvetica,sans-Serif\" font-size=\"14.00\">gini = 0.192</text>\n<text text-anchor=\"middle\" x=\"740\" y=\"-498.8\" font-family=\"Helvetica,sans-Serif\" font-size=\"14.00\">samples = 59</text>\n<text text-anchor=\"middle\" x=\"740\" y=\"-483.8\" font-family=\"Helvetica,sans-Serif\" font-size=\"14.00\">value = [83, 10]</text>\n<text text-anchor=\"middle\" x=\"740\" y=\"-468.8\" font-family=\"Helvetica,sans-Serif\" font-size=\"14.00\">class = 0</text>\n</g>\n<!-- 2&#45;&gt;4 -->\n<g id=\"edge4\" class=\"edge\">\n<title>2&#45;&gt;4</title>\n<path fill=\"none\" stroke=\"black\" d=\"M740,-579.91C740,-571.65 740,-562.86 740,-554.3\"/>\n<polygon fill=\"black\" stroke=\"black\" points=\"743.5,-554.02 740,-544.02 736.5,-554.02 743.5,-554.02\"/>\n</g>\n<!-- 5 -->\n<g id=\"node6\" class=\"node\">\n<title>5</title>\n<path fill=\"#e68743\" stroke=\"black\" d=\"M387,-425C387,-425 309,-425 309,-425 303,-425 297,-419 297,-413 297,-413 297,-354 297,-354 297,-348 303,-342 309,-342 309,-342 387,-342 387,-342 393,-342 399,-348 399,-354 399,-354 399,-413 399,-413 399,-419 393,-425 387,-425\"/>\n<text text-anchor=\"middle\" x=\"348\" y=\"-409.8\" font-family=\"Helvetica,sans-Serif\" font-size=\"14.00\">ca &lt;= 0.844</text>\n<text text-anchor=\"middle\" x=\"348\" y=\"-394.8\" font-family=\"Helvetica,sans-Serif\" font-size=\"14.00\">gini = 0.091</text>\n<text text-anchor=\"middle\" x=\"348\" y=\"-379.8\" font-family=\"Helvetica,sans-Serif\" font-size=\"14.00\">samples = 39</text>\n<text text-anchor=\"middle\" x=\"348\" y=\"-364.8\" font-family=\"Helvetica,sans-Serif\" font-size=\"14.00\">value = [60, 3]</text>\n<text text-anchor=\"middle\" x=\"348\" y=\"-349.8\" font-family=\"Helvetica,sans-Serif\" font-size=\"14.00\">class = 0</text>\n</g>\n<!-- 4&#45;&gt;5 -->\n<g id=\"edge5\" class=\"edge\">\n<title>4&#45;&gt;5</title>\n<path fill=\"none\" stroke=\"black\" d=\"M684.98,-465.56C681.65,-463.91 678.32,-462.38 675,-461 586.26,-424.16 476.27,-403.05 409.16,-392.68\"/>\n<polygon fill=\"black\" stroke=\"black\" points=\"409.58,-389.21 399.17,-391.17 408.53,-396.13 409.58,-389.21\"/>\n</g>\n<!-- 14 -->\n<g id=\"node15\" class=\"node\">\n<title>14</title>\n<path fill=\"#eda775\" stroke=\"black\" d=\"M779,-425C779,-425 701,-425 701,-425 695,-425 689,-419 689,-413 689,-413 689,-354 689,-354 689,-348 695,-342 701,-342 701,-342 779,-342 779,-342 785,-342 791,-348 791,-354 791,-354 791,-413 791,-413 791,-419 785,-425 779,-425\"/>\n<text text-anchor=\"middle\" x=\"740\" y=\"-409.8\" font-family=\"Helvetica,sans-Serif\" font-size=\"14.00\">ca &lt;= 0.844</text>\n<text text-anchor=\"middle\" x=\"740\" y=\"-394.8\" font-family=\"Helvetica,sans-Serif\" font-size=\"14.00\">gini = 0.358</text>\n<text text-anchor=\"middle\" x=\"740\" y=\"-379.8\" font-family=\"Helvetica,sans-Serif\" font-size=\"14.00\">samples = 20</text>\n<text text-anchor=\"middle\" x=\"740\" y=\"-364.8\" font-family=\"Helvetica,sans-Serif\" font-size=\"14.00\">value = [23, 7]</text>\n<text text-anchor=\"middle\" x=\"740\" y=\"-349.8\" font-family=\"Helvetica,sans-Serif\" font-size=\"14.00\">class = 0</text>\n</g>\n<!-- 4&#45;&gt;14 -->\n<g id=\"edge14\" class=\"edge\">\n<title>4&#45;&gt;14</title>\n<path fill=\"none\" stroke=\"black\" d=\"M740,-460.91C740,-452.65 740,-443.86 740,-435.3\"/>\n<polygon fill=\"black\" stroke=\"black\" points=\"743.5,-435.02 740,-425.02 736.5,-435.02 743.5,-435.02\"/>\n</g>\n<!-- 6 -->\n<g id=\"node7\" class=\"node\">\n<title>6</title>\n<path fill=\"#e5833d\" stroke=\"black\" d=\"M211,-306C211,-306 133,-306 133,-306 127,-306 121,-300 121,-294 121,-294 121,-235 121,-235 121,-229 127,-223 133,-223 133,-223 211,-223 211,-223 217,-223 223,-229 223,-235 223,-235 223,-294 223,-294 223,-300 217,-306 211,-306\"/>\n<text text-anchor=\"middle\" x=\"172\" y=\"-290.8\" font-family=\"Helvetica,sans-Serif\" font-size=\"14.00\">cp &lt;= 3.5</text>\n<text text-anchor=\"middle\" x=\"172\" y=\"-275.8\" font-family=\"Helvetica,sans-Serif\" font-size=\"14.00\">gini = 0.036</text>\n<text text-anchor=\"middle\" x=\"172\" y=\"-260.8\" font-family=\"Helvetica,sans-Serif\" font-size=\"14.00\">samples = 31</text>\n<text text-anchor=\"middle\" x=\"172\" y=\"-245.8\" font-family=\"Helvetica,sans-Serif\" font-size=\"14.00\">value = [54, 1]</text>\n<text text-anchor=\"middle\" x=\"172\" y=\"-230.8\" font-family=\"Helvetica,sans-Serif\" font-size=\"14.00\">class = 0</text>\n</g>\n<!-- 5&#45;&gt;6 -->\n<g id=\"edge6\" class=\"edge\">\n<title>5&#45;&gt;6</title>\n<path fill=\"none\" stroke=\"black\" d=\"M296.62,-348.34C276.29,-334.83 252.78,-319.2 231.7,-305.19\"/>\n<polygon fill=\"black\" stroke=\"black\" points=\"233.4,-302.12 223.14,-299.5 229.53,-307.95 233.4,-302.12\"/>\n</g>\n<!-- 11 -->\n<g id=\"node12\" class=\"node\">\n<title>11</title>\n<path fill=\"#eeab7b\" stroke=\"black\" d=\"M388,-306C388,-306 308,-306 308,-306 302,-306 296,-300 296,-294 296,-294 296,-235 296,-235 296,-229 302,-223 308,-223 308,-223 388,-223 388,-223 394,-223 400,-229 400,-235 400,-235 400,-294 400,-294 400,-300 394,-306 388,-306\"/>\n<text text-anchor=\"middle\" x=\"348\" y=\"-290.8\" font-family=\"Helvetica,sans-Serif\" font-size=\"14.00\">restecg &lt;= 1.0</text>\n<text text-anchor=\"middle\" x=\"348\" y=\"-275.8\" font-family=\"Helvetica,sans-Serif\" font-size=\"14.00\">gini = 0.375</text>\n<text text-anchor=\"middle\" x=\"348\" y=\"-260.8\" font-family=\"Helvetica,sans-Serif\" font-size=\"14.00\">samples = 8</text>\n<text text-anchor=\"middle\" x=\"348\" y=\"-245.8\" font-family=\"Helvetica,sans-Serif\" font-size=\"14.00\">value = [6, 2]</text>\n<text text-anchor=\"middle\" x=\"348\" y=\"-230.8\" font-family=\"Helvetica,sans-Serif\" font-size=\"14.00\">class = 0</text>\n</g>\n<!-- 5&#45;&gt;11 -->\n<g id=\"edge11\" class=\"edge\">\n<title>5&#45;&gt;11</title>\n<path fill=\"none\" stroke=\"black\" d=\"M348,-341.91C348,-333.65 348,-324.86 348,-316.3\"/>\n<polygon fill=\"black\" stroke=\"black\" points=\"351.5,-316.02 348,-306.02 344.5,-316.02 351.5,-316.02\"/>\n</g>\n<!-- 7 -->\n<g id=\"node8\" class=\"node\">\n<title>7</title>\n<path fill=\"#e58139\" stroke=\"black\" d=\"M90,-179.5C90,-179.5 12,-179.5 12,-179.5 6,-179.5 0,-173.5 0,-167.5 0,-167.5 0,-123.5 0,-123.5 0,-117.5 6,-111.5 12,-111.5 12,-111.5 90,-111.5 90,-111.5 96,-111.5 102,-117.5 102,-123.5 102,-123.5 102,-167.5 102,-167.5 102,-173.5 96,-179.5 90,-179.5\"/>\n<text text-anchor=\"middle\" x=\"51\" y=\"-164.3\" font-family=\"Helvetica,sans-Serif\" font-size=\"14.00\">gini = 0.0</text>\n<text text-anchor=\"middle\" x=\"51\" y=\"-149.3\" font-family=\"Helvetica,sans-Serif\" font-size=\"14.00\">samples = 22</text>\n<text text-anchor=\"middle\" x=\"51\" y=\"-134.3\" font-family=\"Helvetica,sans-Serif\" font-size=\"14.00\">value = [36, 0]</text>\n<text text-anchor=\"middle\" x=\"51\" y=\"-119.3\" font-family=\"Helvetica,sans-Serif\" font-size=\"14.00\">class = 0</text>\n</g>\n<!-- 6&#45;&gt;7 -->\n<g id=\"edge7\" class=\"edge\">\n<title>6&#45;&gt;7</title>\n<path fill=\"none\" stroke=\"black\" d=\"M130.02,-222.91C117.92,-211.21 104.73,-198.46 92.66,-186.78\"/>\n<polygon fill=\"black\" stroke=\"black\" points=\"94.92,-184.1 85.3,-179.67 90.06,-189.13 94.92,-184.1\"/>\n</g>\n<!-- 8 -->\n<g id=\"node9\" class=\"node\">\n<title>8</title>\n<path fill=\"#e68844\" stroke=\"black\" d=\"M212,-187C212,-187 132,-187 132,-187 126,-187 120,-181 120,-175 120,-175 120,-116 120,-116 120,-110 126,-104 132,-104 132,-104 212,-104 212,-104 218,-104 224,-110 224,-116 224,-116 224,-175 224,-175 224,-181 218,-187 212,-187\"/>\n<text text-anchor=\"middle\" x=\"172\" y=\"-171.8\" font-family=\"Helvetica,sans-Serif\" font-size=\"14.00\">restecg &lt;= 1.0</text>\n<text text-anchor=\"middle\" x=\"172\" y=\"-156.8\" font-family=\"Helvetica,sans-Serif\" font-size=\"14.00\">gini = 0.1</text>\n<text text-anchor=\"middle\" x=\"172\" y=\"-141.8\" font-family=\"Helvetica,sans-Serif\" font-size=\"14.00\">samples = 9</text>\n<text text-anchor=\"middle\" x=\"172\" y=\"-126.8\" font-family=\"Helvetica,sans-Serif\" font-size=\"14.00\">value = [18, 1]</text>\n<text text-anchor=\"middle\" x=\"172\" y=\"-111.8\" font-family=\"Helvetica,sans-Serif\" font-size=\"14.00\">class = 0</text>\n</g>\n<!-- 6&#45;&gt;8 -->\n<g id=\"edge8\" class=\"edge\">\n<title>6&#45;&gt;8</title>\n<path fill=\"none\" stroke=\"black\" d=\"M172,-222.91C172,-214.65 172,-205.86 172,-197.3\"/>\n<polygon fill=\"black\" stroke=\"black\" points=\"175.5,-197.02 172,-187.02 168.5,-197.02 175.5,-197.02\"/>\n</g>\n<!-- 9 -->\n<g id=\"node10\" class=\"node\">\n<title>9</title>\n<path fill=\"#e99355\" stroke=\"black\" d=\"M149.5,-68C149.5,-68 78.5,-68 78.5,-68 72.5,-68 66.5,-62 66.5,-56 66.5,-56 66.5,-12 66.5,-12 66.5,-6 72.5,0 78.5,0 78.5,0 149.5,0 149.5,0 155.5,0 161.5,-6 161.5,-12 161.5,-12 161.5,-56 161.5,-56 161.5,-62 155.5,-68 149.5,-68\"/>\n<text text-anchor=\"middle\" x=\"114\" y=\"-52.8\" font-family=\"Helvetica,sans-Serif\" font-size=\"14.00\">gini = 0.219</text>\n<text text-anchor=\"middle\" x=\"114\" y=\"-37.8\" font-family=\"Helvetica,sans-Serif\" font-size=\"14.00\">samples = 4</text>\n<text text-anchor=\"middle\" x=\"114\" y=\"-22.8\" font-family=\"Helvetica,sans-Serif\" font-size=\"14.00\">value = [7, 1]</text>\n<text text-anchor=\"middle\" x=\"114\" y=\"-7.8\" font-family=\"Helvetica,sans-Serif\" font-size=\"14.00\">class = 0</text>\n</g>\n<!-- 8&#45;&gt;9 -->\n<g id=\"edge9\" class=\"edge\">\n<title>8&#45;&gt;9</title>\n<path fill=\"none\" stroke=\"black\" d=\"M150.4,-103.73C145.81,-95.06 140.96,-85.9 136.34,-77.18\"/>\n<polygon fill=\"black\" stroke=\"black\" points=\"139.41,-75.5 131.64,-68.3 133.23,-78.77 139.41,-75.5\"/>\n</g>\n<!-- 10 -->\n<g id=\"node11\" class=\"node\">\n<title>10</title>\n<path fill=\"#e58139\" stroke=\"black\" d=\"M270,-68C270,-68 192,-68 192,-68 186,-68 180,-62 180,-56 180,-56 180,-12 180,-12 180,-6 186,0 192,0 192,0 270,0 270,0 276,0 282,-6 282,-12 282,-12 282,-56 282,-56 282,-62 276,-68 270,-68\"/>\n<text text-anchor=\"middle\" x=\"231\" y=\"-52.8\" font-family=\"Helvetica,sans-Serif\" font-size=\"14.00\">gini = 0.0</text>\n<text text-anchor=\"middle\" x=\"231\" y=\"-37.8\" font-family=\"Helvetica,sans-Serif\" font-size=\"14.00\">samples = 5</text>\n<text text-anchor=\"middle\" x=\"231\" y=\"-22.8\" font-family=\"Helvetica,sans-Serif\" font-size=\"14.00\">value = [11, 0]</text>\n<text text-anchor=\"middle\" x=\"231\" y=\"-7.8\" font-family=\"Helvetica,sans-Serif\" font-size=\"14.00\">class = 0</text>\n</g>\n<!-- 8&#45;&gt;10 -->\n<g id=\"edge10\" class=\"edge\">\n<title>8&#45;&gt;10</title>\n<path fill=\"none\" stroke=\"black\" d=\"M193.97,-103.73C198.64,-95.06 203.58,-85.9 208.27,-77.18\"/>\n<polygon fill=\"black\" stroke=\"black\" points=\"211.4,-78.76 213.06,-68.3 205.23,-75.44 211.4,-78.76\"/>\n</g>\n<!-- 12 -->\n<g id=\"node13\" class=\"node\">\n<title>12</title>\n<path fill=\"#e58139\" stroke=\"black\" d=\"M325.5,-179.5C325.5,-179.5 254.5,-179.5 254.5,-179.5 248.5,-179.5 242.5,-173.5 242.5,-167.5 242.5,-167.5 242.5,-123.5 242.5,-123.5 242.5,-117.5 248.5,-111.5 254.5,-111.5 254.5,-111.5 325.5,-111.5 325.5,-111.5 331.5,-111.5 337.5,-117.5 337.5,-123.5 337.5,-123.5 337.5,-167.5 337.5,-167.5 337.5,-173.5 331.5,-179.5 325.5,-179.5\"/>\n<text text-anchor=\"middle\" x=\"290\" y=\"-164.3\" font-family=\"Helvetica,sans-Serif\" font-size=\"14.00\">gini = 0.0</text>\n<text text-anchor=\"middle\" x=\"290\" y=\"-149.3\" font-family=\"Helvetica,sans-Serif\" font-size=\"14.00\">samples = 4</text>\n<text text-anchor=\"middle\" x=\"290\" y=\"-134.3\" font-family=\"Helvetica,sans-Serif\" font-size=\"14.00\">value = [4, 0]</text>\n<text text-anchor=\"middle\" x=\"290\" y=\"-119.3\" font-family=\"Helvetica,sans-Serif\" font-size=\"14.00\">class = 0</text>\n</g>\n<!-- 11&#45;&gt;12 -->\n<g id=\"edge12\" class=\"edge\">\n<title>11&#45;&gt;12</title>\n<path fill=\"none\" stroke=\"black\" d=\"M327.88,-222.91C322.41,-211.87 316.47,-199.9 310.96,-188.77\"/>\n<polygon fill=\"black\" stroke=\"black\" points=\"314.02,-187.07 306.44,-179.67 307.75,-190.18 314.02,-187.07\"/>\n</g>\n<!-- 13 -->\n<g id=\"node14\" class=\"node\">\n<title>13</title>\n<path fill=\"#ffffff\" stroke=\"black\" d=\"M438.5,-179.5C438.5,-179.5 367.5,-179.5 367.5,-179.5 361.5,-179.5 355.5,-173.5 355.5,-167.5 355.5,-167.5 355.5,-123.5 355.5,-123.5 355.5,-117.5 361.5,-111.5 367.5,-111.5 367.5,-111.5 438.5,-111.5 438.5,-111.5 444.5,-111.5 450.5,-117.5 450.5,-123.5 450.5,-123.5 450.5,-167.5 450.5,-167.5 450.5,-173.5 444.5,-179.5 438.5,-179.5\"/>\n<text text-anchor=\"middle\" x=\"403\" y=\"-164.3\" font-family=\"Helvetica,sans-Serif\" font-size=\"14.00\">gini = 0.5</text>\n<text text-anchor=\"middle\" x=\"403\" y=\"-149.3\" font-family=\"Helvetica,sans-Serif\" font-size=\"14.00\">samples = 4</text>\n<text text-anchor=\"middle\" x=\"403\" y=\"-134.3\" font-family=\"Helvetica,sans-Serif\" font-size=\"14.00\">value = [2, 2]</text>\n<text text-anchor=\"middle\" x=\"403\" y=\"-119.3\" font-family=\"Helvetica,sans-Serif\" font-size=\"14.00\">class = 0</text>\n</g>\n<!-- 11&#45;&gt;13 -->\n<g id=\"edge13\" class=\"edge\">\n<title>11&#45;&gt;13</title>\n<path fill=\"none\" stroke=\"black\" d=\"M367.08,-222.91C372.27,-211.87 377.9,-199.9 383.13,-188.77\"/>\n<polygon fill=\"black\" stroke=\"black\" points=\"386.32,-190.21 387.41,-179.67 379.99,-187.23 386.32,-190.21\"/>\n</g>\n<!-- 15 -->\n<g id=\"node16\" class=\"node\">\n<title>15</title>\n<path fill=\"#e78946\" stroke=\"black\" d=\"M651,-306C651,-306 573,-306 573,-306 567,-306 561,-300 561,-294 561,-294 561,-235 561,-235 561,-229 567,-223 573,-223 573,-223 651,-223 651,-223 657,-223 663,-229 663,-235 663,-235 663,-294 663,-294 663,-300 657,-306 651,-306\"/>\n<text text-anchor=\"middle\" x=\"612\" y=\"-290.8\" font-family=\"Helvetica,sans-Serif\" font-size=\"14.00\">thal &lt;= 6.5</text>\n<text text-anchor=\"middle\" x=\"612\" y=\"-275.8\" font-family=\"Helvetica,sans-Serif\" font-size=\"14.00\">gini = 0.117</text>\n<text text-anchor=\"middle\" x=\"612\" y=\"-260.8\" font-family=\"Helvetica,sans-Serif\" font-size=\"14.00\">samples = 10</text>\n<text text-anchor=\"middle\" x=\"612\" y=\"-245.8\" font-family=\"Helvetica,sans-Serif\" font-size=\"14.00\">value = [15, 1]</text>\n<text text-anchor=\"middle\" x=\"612\" y=\"-230.8\" font-family=\"Helvetica,sans-Serif\" font-size=\"14.00\">class = 0</text>\n</g>\n<!-- 14&#45;&gt;15 -->\n<g id=\"edge15\" class=\"edge\">\n<title>14&#45;&gt;15</title>\n<path fill=\"none\" stroke=\"black\" d=\"M695.59,-341.91C685.36,-332.56 674.4,-322.54 663.89,-312.93\"/>\n<polygon fill=\"black\" stroke=\"black\" points=\"666.07,-310.18 656.33,-306.02 661.35,-315.35 666.07,-310.18\"/>\n</g>\n<!-- 18 -->\n<g id=\"node19\" class=\"node\">\n<title>18</title>\n<path fill=\"#f8e0ce\" stroke=\"black\" d=\"M791,-306C791,-306 693,-306 693,-306 687,-306 681,-300 681,-294 681,-294 681,-235 681,-235 681,-229 687,-223 693,-223 693,-223 791,-223 791,-223 797,-223 803,-229 803,-235 803,-235 803,-294 803,-294 803,-300 797,-306 791,-306\"/>\n<text text-anchor=\"middle\" x=\"742\" y=\"-290.8\" font-family=\"Helvetica,sans-Serif\" font-size=\"14.00\">trestbps &lt;= 129.0</text>\n<text text-anchor=\"middle\" x=\"742\" y=\"-275.8\" font-family=\"Helvetica,sans-Serif\" font-size=\"14.00\">gini = 0.49</text>\n<text text-anchor=\"middle\" x=\"742\" y=\"-260.8\" font-family=\"Helvetica,sans-Serif\" font-size=\"14.00\">samples = 10</text>\n<text text-anchor=\"middle\" x=\"742\" y=\"-245.8\" font-family=\"Helvetica,sans-Serif\" font-size=\"14.00\">value = [8, 6]</text>\n<text text-anchor=\"middle\" x=\"742\" y=\"-230.8\" font-family=\"Helvetica,sans-Serif\" font-size=\"14.00\">class = 0</text>\n</g>\n<!-- 14&#45;&gt;18 -->\n<g id=\"edge18\" class=\"edge\">\n<title>14&#45;&gt;18</title>\n<path fill=\"none\" stroke=\"black\" d=\"M740.69,-341.91C740.84,-333.56 740.99,-324.67 741.14,-316.02\"/>\n<polygon fill=\"black\" stroke=\"black\" points=\"744.64,-316.08 741.31,-306.02 737.64,-315.96 744.64,-316.08\"/>\n</g>\n<!-- 16 -->\n<g id=\"node17\" class=\"node\">\n<title>16</title>\n<path fill=\"#e58139\" stroke=\"black\" d=\"M551.5,-179.5C551.5,-179.5 480.5,-179.5 480.5,-179.5 474.5,-179.5 468.5,-173.5 468.5,-167.5 468.5,-167.5 468.5,-123.5 468.5,-123.5 468.5,-117.5 474.5,-111.5 480.5,-111.5 480.5,-111.5 551.5,-111.5 551.5,-111.5 557.5,-111.5 563.5,-117.5 563.5,-123.5 563.5,-123.5 563.5,-167.5 563.5,-167.5 563.5,-173.5 557.5,-179.5 551.5,-179.5\"/>\n<text text-anchor=\"middle\" x=\"516\" y=\"-164.3\" font-family=\"Helvetica,sans-Serif\" font-size=\"14.00\">gini = 0.0</text>\n<text text-anchor=\"middle\" x=\"516\" y=\"-149.3\" font-family=\"Helvetica,sans-Serif\" font-size=\"14.00\">samples = 5</text>\n<text text-anchor=\"middle\" x=\"516\" y=\"-134.3\" font-family=\"Helvetica,sans-Serif\" font-size=\"14.00\">value = [6, 0]</text>\n<text text-anchor=\"middle\" x=\"516\" y=\"-119.3\" font-family=\"Helvetica,sans-Serif\" font-size=\"14.00\">class = 0</text>\n</g>\n<!-- 15&#45;&gt;16 -->\n<g id=\"edge16\" class=\"edge\">\n<title>15&#45;&gt;16</title>\n<path fill=\"none\" stroke=\"black\" d=\"M578.69,-222.91C569.28,-211.43 559.03,-198.94 549.59,-187.44\"/>\n<polygon fill=\"black\" stroke=\"black\" points=\"552.26,-185.18 543.21,-179.67 546.85,-189.62 552.26,-185.18\"/>\n</g>\n<!-- 17 -->\n<g id=\"node18\" class=\"node\">\n<title>17</title>\n<path fill=\"#e88f4f\" stroke=\"black\" d=\"M664.5,-179.5C664.5,-179.5 593.5,-179.5 593.5,-179.5 587.5,-179.5 581.5,-173.5 581.5,-167.5 581.5,-167.5 581.5,-123.5 581.5,-123.5 581.5,-117.5 587.5,-111.5 593.5,-111.5 593.5,-111.5 664.5,-111.5 664.5,-111.5 670.5,-111.5 676.5,-117.5 676.5,-123.5 676.5,-123.5 676.5,-167.5 676.5,-167.5 676.5,-173.5 670.5,-179.5 664.5,-179.5\"/>\n<text text-anchor=\"middle\" x=\"629\" y=\"-164.3\" font-family=\"Helvetica,sans-Serif\" font-size=\"14.00\">gini = 0.18</text>\n<text text-anchor=\"middle\" x=\"629\" y=\"-149.3\" font-family=\"Helvetica,sans-Serif\" font-size=\"14.00\">samples = 5</text>\n<text text-anchor=\"middle\" x=\"629\" y=\"-134.3\" font-family=\"Helvetica,sans-Serif\" font-size=\"14.00\">value = [9, 1]</text>\n<text text-anchor=\"middle\" x=\"629\" y=\"-119.3\" font-family=\"Helvetica,sans-Serif\" font-size=\"14.00\">class = 0</text>\n</g>\n<!-- 15&#45;&gt;17 -->\n<g id=\"edge17\" class=\"edge\">\n<title>15&#45;&gt;17</title>\n<path fill=\"none\" stroke=\"black\" d=\"M617.9,-222.91C619.45,-212.2 621.14,-200.62 622.71,-189.78\"/>\n<polygon fill=\"black\" stroke=\"black\" points=\"626.21,-190.07 624.18,-179.67 619.28,-189.06 626.21,-190.07\"/>\n</g>\n<!-- 19 -->\n<g id=\"node20\" class=\"node\">\n<title>19</title>\n<path fill=\"#efb388\" stroke=\"black\" d=\"M777.5,-179.5C777.5,-179.5 706.5,-179.5 706.5,-179.5 700.5,-179.5 694.5,-173.5 694.5,-167.5 694.5,-167.5 694.5,-123.5 694.5,-123.5 694.5,-117.5 700.5,-111.5 706.5,-111.5 706.5,-111.5 777.5,-111.5 777.5,-111.5 783.5,-111.5 789.5,-117.5 789.5,-123.5 789.5,-123.5 789.5,-167.5 789.5,-167.5 789.5,-173.5 783.5,-179.5 777.5,-179.5\"/>\n<text text-anchor=\"middle\" x=\"742\" y=\"-164.3\" font-family=\"Helvetica,sans-Serif\" font-size=\"14.00\">gini = 0.408</text>\n<text text-anchor=\"middle\" x=\"742\" y=\"-149.3\" font-family=\"Helvetica,sans-Serif\" font-size=\"14.00\">samples = 5</text>\n<text text-anchor=\"middle\" x=\"742\" y=\"-134.3\" font-family=\"Helvetica,sans-Serif\" font-size=\"14.00\">value = [5, 2]</text>\n<text text-anchor=\"middle\" x=\"742\" y=\"-119.3\" font-family=\"Helvetica,sans-Serif\" font-size=\"14.00\">class = 0</text>\n</g>\n<!-- 18&#45;&gt;19 -->\n<g id=\"edge19\" class=\"edge\">\n<title>18&#45;&gt;19</title>\n<path fill=\"none\" stroke=\"black\" d=\"M742,-222.91C742,-212.2 742,-200.62 742,-189.78\"/>\n<polygon fill=\"black\" stroke=\"black\" points=\"745.5,-189.67 742,-179.67 738.5,-189.67 745.5,-189.67\"/>\n</g>\n<!-- 20 -->\n<g id=\"node21\" class=\"node\">\n<title>20</title>\n<path fill=\"#cee6f8\" stroke=\"black\" d=\"M890.5,-179.5C890.5,-179.5 819.5,-179.5 819.5,-179.5 813.5,-179.5 807.5,-173.5 807.5,-167.5 807.5,-167.5 807.5,-123.5 807.5,-123.5 807.5,-117.5 813.5,-111.5 819.5,-111.5 819.5,-111.5 890.5,-111.5 890.5,-111.5 896.5,-111.5 902.5,-117.5 902.5,-123.5 902.5,-123.5 902.5,-167.5 902.5,-167.5 902.5,-173.5 896.5,-179.5 890.5,-179.5\"/>\n<text text-anchor=\"middle\" x=\"855\" y=\"-164.3\" font-family=\"Helvetica,sans-Serif\" font-size=\"14.00\">gini = 0.49</text>\n<text text-anchor=\"middle\" x=\"855\" y=\"-149.3\" font-family=\"Helvetica,sans-Serif\" font-size=\"14.00\">samples = 5</text>\n<text text-anchor=\"middle\" x=\"855\" y=\"-134.3\" font-family=\"Helvetica,sans-Serif\" font-size=\"14.00\">value = [3, 4]</text>\n<text text-anchor=\"middle\" x=\"855\" y=\"-119.3\" font-family=\"Helvetica,sans-Serif\" font-size=\"14.00\">class = 1</text>\n</g>\n<!-- 18&#45;&gt;20 -->\n<g id=\"edge20\" class=\"edge\">\n<title>18&#45;&gt;20</title>\n<path fill=\"none\" stroke=\"black\" d=\"M781.2,-222.91C792.39,-211.32 804.59,-198.7 815.78,-187.11\"/>\n<polygon fill=\"black\" stroke=\"black\" points=\"818.54,-189.29 822.97,-179.67 813.5,-184.43 818.54,-189.29\"/>\n</g>\n<!-- 22 -->\n<g id=\"node23\" class=\"node\">\n<title>22</title>\n<path fill=\"#eeab7b\" stroke=\"black\" d=\"M920,-544C920,-544 826,-544 826,-544 820,-544 814,-538 814,-532 814,-532 814,-473 814,-473 814,-467 820,-461 826,-461 826,-461 920,-461 920,-461 926,-461 932,-467 932,-473 932,-473 932,-532 932,-532 932,-538 926,-544 920,-544\"/>\n<text text-anchor=\"middle\" x=\"873\" y=\"-528.8\" font-family=\"Helvetica,sans-Serif\" font-size=\"14.00\">thalach &lt;= 162.5</text>\n<text text-anchor=\"middle\" x=\"873\" y=\"-513.8\" font-family=\"Helvetica,sans-Serif\" font-size=\"14.00\">gini = 0.375</text>\n<text text-anchor=\"middle\" x=\"873\" y=\"-498.8\" font-family=\"Helvetica,sans-Serif\" font-size=\"14.00\">samples = 14</text>\n<text text-anchor=\"middle\" x=\"873\" y=\"-483.8\" font-family=\"Helvetica,sans-Serif\" font-size=\"14.00\">value = [15, 5]</text>\n<text text-anchor=\"middle\" x=\"873\" y=\"-468.8\" font-family=\"Helvetica,sans-Serif\" font-size=\"14.00\">class = 0</text>\n</g>\n<!-- 21&#45;&gt;22 -->\n<g id=\"edge22\" class=\"edge\">\n<title>21&#45;&gt;22</title>\n<path fill=\"none\" stroke=\"black\" d=\"M905.65,-579.91C902.01,-571.38 898.12,-562.28 894.35,-553.46\"/>\n<polygon fill=\"black\" stroke=\"black\" points=\"897.46,-551.84 890.32,-544.02 891.03,-554.59 897.46,-551.84\"/>\n</g>\n<!-- 27 -->\n<g id=\"node28\" class=\"node\">\n<title>27</title>\n<path fill=\"#399de5\" stroke=\"black\" d=\"M1033.5,-536.5C1033.5,-536.5 962.5,-536.5 962.5,-536.5 956.5,-536.5 950.5,-530.5 950.5,-524.5 950.5,-524.5 950.5,-480.5 950.5,-480.5 950.5,-474.5 956.5,-468.5 962.5,-468.5 962.5,-468.5 1033.5,-468.5 1033.5,-468.5 1039.5,-468.5 1045.5,-474.5 1045.5,-480.5 1045.5,-480.5 1045.5,-524.5 1045.5,-524.5 1045.5,-530.5 1039.5,-536.5 1033.5,-536.5\"/>\n<text text-anchor=\"middle\" x=\"998\" y=\"-521.3\" font-family=\"Helvetica,sans-Serif\" font-size=\"14.00\">gini = 0.0</text>\n<text text-anchor=\"middle\" x=\"998\" y=\"-506.3\" font-family=\"Helvetica,sans-Serif\" font-size=\"14.00\">samples = 5</text>\n<text text-anchor=\"middle\" x=\"998\" y=\"-491.3\" font-family=\"Helvetica,sans-Serif\" font-size=\"14.00\">value = [0, 8]</text>\n<text text-anchor=\"middle\" x=\"998\" y=\"-476.3\" font-family=\"Helvetica,sans-Serif\" font-size=\"14.00\">class = 1</text>\n</g>\n<!-- 21&#45;&gt;27 -->\n<g id=\"edge27\" class=\"edge\">\n<title>21&#45;&gt;27</title>\n<path fill=\"none\" stroke=\"black\" d=\"M949.02,-579.91C956.24,-568.65 964.08,-556.42 971.33,-545.11\"/>\n<polygon fill=\"black\" stroke=\"black\" points=\"974.29,-546.97 976.74,-536.67 968.4,-543.2 974.29,-546.97\"/>\n</g>\n<!-- 23 -->\n<g id=\"node24\" class=\"node\">\n<title>23</title>\n<path fill=\"#f5d0b5\" stroke=\"black\" d=\"M904.5,-425C904.5,-425 833.5,-425 833.5,-425 827.5,-425 821.5,-419 821.5,-413 821.5,-413 821.5,-354 821.5,-354 821.5,-348 827.5,-342 833.5,-342 833.5,-342 904.5,-342 904.5,-342 910.5,-342 916.5,-348 916.5,-354 916.5,-354 916.5,-413 916.5,-413 916.5,-419 910.5,-425 904.5,-425\"/>\n<text text-anchor=\"middle\" x=\"869\" y=\"-409.8\" font-family=\"Helvetica,sans-Serif\" font-size=\"14.00\">age &lt;= 64.5</text>\n<text text-anchor=\"middle\" x=\"869\" y=\"-394.8\" font-family=\"Helvetica,sans-Serif\" font-size=\"14.00\">gini = 0.473</text>\n<text text-anchor=\"middle\" x=\"869\" y=\"-379.8\" font-family=\"Helvetica,sans-Serif\" font-size=\"14.00\">samples = 9</text>\n<text text-anchor=\"middle\" x=\"869\" y=\"-364.8\" font-family=\"Helvetica,sans-Serif\" font-size=\"14.00\">value = [8, 5]</text>\n<text text-anchor=\"middle\" x=\"869\" y=\"-349.8\" font-family=\"Helvetica,sans-Serif\" font-size=\"14.00\">class = 0</text>\n</g>\n<!-- 22&#45;&gt;23 -->\n<g id=\"edge23\" class=\"edge\">\n<title>22&#45;&gt;23</title>\n<path fill=\"none\" stroke=\"black\" d=\"M871.61,-460.91C871.33,-452.56 871.02,-443.67 870.73,-435.02\"/>\n<polygon fill=\"black\" stroke=\"black\" points=\"874.23,-434.9 870.39,-425.02 867.23,-435.13 874.23,-434.9\"/>\n</g>\n<!-- 26 -->\n<g id=\"node27\" class=\"node\">\n<title>26</title>\n<path fill=\"#e58139\" stroke=\"black\" d=\"M1017.5,-417.5C1017.5,-417.5 946.5,-417.5 946.5,-417.5 940.5,-417.5 934.5,-411.5 934.5,-405.5 934.5,-405.5 934.5,-361.5 934.5,-361.5 934.5,-355.5 940.5,-349.5 946.5,-349.5 946.5,-349.5 1017.5,-349.5 1017.5,-349.5 1023.5,-349.5 1029.5,-355.5 1029.5,-361.5 1029.5,-361.5 1029.5,-405.5 1029.5,-405.5 1029.5,-411.5 1023.5,-417.5 1017.5,-417.5\"/>\n<text text-anchor=\"middle\" x=\"982\" y=\"-402.3\" font-family=\"Helvetica,sans-Serif\" font-size=\"14.00\">gini = 0.0</text>\n<text text-anchor=\"middle\" x=\"982\" y=\"-387.3\" font-family=\"Helvetica,sans-Serif\" font-size=\"14.00\">samples = 5</text>\n<text text-anchor=\"middle\" x=\"982\" y=\"-372.3\" font-family=\"Helvetica,sans-Serif\" font-size=\"14.00\">value = [7, 0]</text>\n<text text-anchor=\"middle\" x=\"982\" y=\"-357.3\" font-family=\"Helvetica,sans-Serif\" font-size=\"14.00\">class = 0</text>\n</g>\n<!-- 22&#45;&gt;26 -->\n<g id=\"edge26\" class=\"edge\">\n<title>22&#45;&gt;26</title>\n<path fill=\"none\" stroke=\"black\" d=\"M910.82,-460.91C921.61,-449.32 933.37,-436.7 944.17,-425.11\"/>\n<polygon fill=\"black\" stroke=\"black\" points=\"946.85,-427.37 951.1,-417.67 941.72,-422.6 946.85,-427.37\"/>\n</g>\n<!-- 24 -->\n<g id=\"node25\" class=\"node\">\n<title>24</title>\n<path fill=\"#cee6f8\" stroke=\"black\" d=\"M904.5,-298.5C904.5,-298.5 833.5,-298.5 833.5,-298.5 827.5,-298.5 821.5,-292.5 821.5,-286.5 821.5,-286.5 821.5,-242.5 821.5,-242.5 821.5,-236.5 827.5,-230.5 833.5,-230.5 833.5,-230.5 904.5,-230.5 904.5,-230.5 910.5,-230.5 916.5,-236.5 916.5,-242.5 916.5,-242.5 916.5,-286.5 916.5,-286.5 916.5,-292.5 910.5,-298.5 904.5,-298.5\"/>\n<text text-anchor=\"middle\" x=\"869\" y=\"-283.3\" font-family=\"Helvetica,sans-Serif\" font-size=\"14.00\">gini = 0.49</text>\n<text text-anchor=\"middle\" x=\"869\" y=\"-268.3\" font-family=\"Helvetica,sans-Serif\" font-size=\"14.00\">samples = 5</text>\n<text text-anchor=\"middle\" x=\"869\" y=\"-253.3\" font-family=\"Helvetica,sans-Serif\" font-size=\"14.00\">value = [3, 4]</text>\n<text text-anchor=\"middle\" x=\"869\" y=\"-238.3\" font-family=\"Helvetica,sans-Serif\" font-size=\"14.00\">class = 1</text>\n</g>\n<!-- 23&#45;&gt;24 -->\n<g id=\"edge24\" class=\"edge\">\n<title>23&#45;&gt;24</title>\n<path fill=\"none\" stroke=\"black\" d=\"M869,-341.91C869,-331.2 869,-319.62 869,-308.78\"/>\n<polygon fill=\"black\" stroke=\"black\" points=\"872.5,-308.67 869,-298.67 865.5,-308.67 872.5,-308.67\"/>\n</g>\n<!-- 25 -->\n<g id=\"node26\" class=\"node\">\n<title>25</title>\n<path fill=\"#ea9a61\" stroke=\"black\" d=\"M1017.5,-298.5C1017.5,-298.5 946.5,-298.5 946.5,-298.5 940.5,-298.5 934.5,-292.5 934.5,-286.5 934.5,-286.5 934.5,-242.5 934.5,-242.5 934.5,-236.5 940.5,-230.5 946.5,-230.5 946.5,-230.5 1017.5,-230.5 1017.5,-230.5 1023.5,-230.5 1029.5,-236.5 1029.5,-242.5 1029.5,-242.5 1029.5,-286.5 1029.5,-286.5 1029.5,-292.5 1023.5,-298.5 1017.5,-298.5\"/>\n<text text-anchor=\"middle\" x=\"982\" y=\"-283.3\" font-family=\"Helvetica,sans-Serif\" font-size=\"14.00\">gini = 0.278</text>\n<text text-anchor=\"middle\" x=\"982\" y=\"-268.3\" font-family=\"Helvetica,sans-Serif\" font-size=\"14.00\">samples = 4</text>\n<text text-anchor=\"middle\" x=\"982\" y=\"-253.3\" font-family=\"Helvetica,sans-Serif\" font-size=\"14.00\">value = [5, 1]</text>\n<text text-anchor=\"middle\" x=\"982\" y=\"-238.3\" font-family=\"Helvetica,sans-Serif\" font-size=\"14.00\">class = 0</text>\n</g>\n<!-- 23&#45;&gt;25 -->\n<g id=\"edge25\" class=\"edge\">\n<title>23&#45;&gt;25</title>\n<path fill=\"none\" stroke=\"black\" d=\"M908.2,-341.91C919.39,-330.32 931.59,-317.7 942.78,-306.11\"/>\n<polygon fill=\"black\" stroke=\"black\" points=\"945.54,-308.29 949.97,-298.67 940.5,-303.43 945.54,-308.29\"/>\n</g>\n<!-- 29 -->\n<g id=\"node30\" class=\"node\">\n<title>29</title>\n<path fill=\"#f8decb\" stroke=\"black\" d=\"M1265,-663C1265,-663 1179,-663 1179,-663 1173,-663 1167,-657 1167,-651 1167,-651 1167,-592 1167,-592 1167,-586 1173,-580 1179,-580 1179,-580 1265,-580 1265,-580 1271,-580 1277,-586 1277,-592 1277,-592 1277,-651 1277,-651 1277,-657 1271,-663 1265,-663\"/>\n<text text-anchor=\"middle\" x=\"1222\" y=\"-647.8\" font-family=\"Helvetica,sans-Serif\" font-size=\"14.00\">thal &lt;= 5.0</text>\n<text text-anchor=\"middle\" x=\"1222\" y=\"-632.8\" font-family=\"Helvetica,sans-Serif\" font-size=\"14.00\">gini = 0.489</text>\n<text text-anchor=\"middle\" x=\"1222\" y=\"-617.8\" font-family=\"Helvetica,sans-Serif\" font-size=\"14.00\">samples = 21</text>\n<text text-anchor=\"middle\" x=\"1222\" y=\"-602.8\" font-family=\"Helvetica,sans-Serif\" font-size=\"14.00\">value = [19, 14]</text>\n<text text-anchor=\"middle\" x=\"1222\" y=\"-587.8\" font-family=\"Helvetica,sans-Serif\" font-size=\"14.00\">class = 0</text>\n</g>\n<!-- 28&#45;&gt;29 -->\n<g id=\"edge29\" class=\"edge\">\n<title>28&#45;&gt;29</title>\n<path fill=\"none\" stroke=\"black\" d=\"M1222,-698.91C1222,-690.65 1222,-681.86 1222,-673.3\"/>\n<polygon fill=\"black\" stroke=\"black\" points=\"1225.5,-673.02 1222,-663.02 1218.5,-673.02 1225.5,-673.02\"/>\n</g>\n<!-- 36 -->\n<g id=\"node37\" class=\"node\">\n<title>36</title>\n<path fill=\"#59ade9\" stroke=\"black\" d=\"M1440,-663C1440,-663 1362,-663 1362,-663 1356,-663 1350,-657 1350,-651 1350,-651 1350,-592 1350,-592 1350,-586 1356,-580 1362,-580 1362,-580 1440,-580 1440,-580 1446,-580 1452,-586 1452,-592 1452,-592 1452,-651 1452,-651 1452,-657 1446,-663 1440,-663\"/>\n<text text-anchor=\"middle\" x=\"1401\" y=\"-647.8\" font-family=\"Helvetica,sans-Serif\" font-size=\"14.00\">thal &lt;= 4.5</text>\n<text text-anchor=\"middle\" x=\"1401\" y=\"-632.8\" font-family=\"Helvetica,sans-Serif\" font-size=\"14.00\">gini = 0.242</text>\n<text text-anchor=\"middle\" x=\"1401\" y=\"-617.8\" font-family=\"Helvetica,sans-Serif\" font-size=\"14.00\">samples = 42</text>\n<text text-anchor=\"middle\" x=\"1401\" y=\"-602.8\" font-family=\"Helvetica,sans-Serif\" font-size=\"14.00\">value = [9, 55]</text>\n<text text-anchor=\"middle\" x=\"1401\" y=\"-587.8\" font-family=\"Helvetica,sans-Serif\" font-size=\"14.00\">class = 1</text>\n</g>\n<!-- 28&#45;&gt;36 -->\n<g id=\"edge36\" class=\"edge\">\n<title>28&#45;&gt;36</title>\n<path fill=\"none\" stroke=\"black\" d=\"M1284.1,-698.91C1302.59,-686.83 1322.79,-673.62 1341.13,-661.63\"/>\n<polygon fill=\"black\" stroke=\"black\" points=\"1343.51,-664.26 1349.97,-655.86 1339.68,-658.4 1343.51,-664.26\"/>\n</g>\n<!-- 30 -->\n<g id=\"node31\" class=\"node\">\n<title>30</title>\n<path fill=\"#eda673\" stroke=\"black\" d=\"M1207,-544C1207,-544 1129,-544 1129,-544 1123,-544 1117,-538 1117,-532 1117,-532 1117,-473 1117,-473 1117,-467 1123,-461 1129,-461 1129,-461 1207,-461 1207,-461 1213,-461 1219,-467 1219,-473 1219,-473 1219,-532 1219,-532 1219,-538 1213,-544 1207,-544\"/>\n<text text-anchor=\"middle\" x=\"1168\" y=\"-528.8\" font-family=\"Helvetica,sans-Serif\" font-size=\"14.00\">exang &lt;= 0.5</text>\n<text text-anchor=\"middle\" x=\"1168\" y=\"-513.8\" font-family=\"Helvetica,sans-Serif\" font-size=\"14.00\">gini = 0.351</text>\n<text text-anchor=\"middle\" x=\"1168\" y=\"-498.8\" font-family=\"Helvetica,sans-Serif\" font-size=\"14.00\">samples = 14</text>\n<text text-anchor=\"middle\" x=\"1168\" y=\"-483.8\" font-family=\"Helvetica,sans-Serif\" font-size=\"14.00\">value = [17, 5]</text>\n<text text-anchor=\"middle\" x=\"1168\" y=\"-468.8\" font-family=\"Helvetica,sans-Serif\" font-size=\"14.00\">class = 0</text>\n</g>\n<!-- 29&#45;&gt;30 -->\n<g id=\"edge30\" class=\"edge\">\n<title>29&#45;&gt;30</title>\n<path fill=\"none\" stroke=\"black\" d=\"M1203.26,-579.91C1199.29,-571.29 1195.04,-562.09 1190.93,-553.17\"/>\n<polygon fill=\"black\" stroke=\"black\" points=\"1194.07,-551.63 1186.7,-544.02 1187.71,-554.57 1194.07,-551.63\"/>\n</g>\n<!-- 35 -->\n<g id=\"node36\" class=\"node\">\n<title>35</title>\n<path fill=\"#65b3eb\" stroke=\"black\" d=\"M1320.5,-536.5C1320.5,-536.5 1249.5,-536.5 1249.5,-536.5 1243.5,-536.5 1237.5,-530.5 1237.5,-524.5 1237.5,-524.5 1237.5,-480.5 1237.5,-480.5 1237.5,-474.5 1243.5,-468.5 1249.5,-468.5 1249.5,-468.5 1320.5,-468.5 1320.5,-468.5 1326.5,-468.5 1332.5,-474.5 1332.5,-480.5 1332.5,-480.5 1332.5,-524.5 1332.5,-524.5 1332.5,-530.5 1326.5,-536.5 1320.5,-536.5\"/>\n<text text-anchor=\"middle\" x=\"1285\" y=\"-521.3\" font-family=\"Helvetica,sans-Serif\" font-size=\"14.00\">gini = 0.298</text>\n<text text-anchor=\"middle\" x=\"1285\" y=\"-506.3\" font-family=\"Helvetica,sans-Serif\" font-size=\"14.00\">samples = 7</text>\n<text text-anchor=\"middle\" x=\"1285\" y=\"-491.3\" font-family=\"Helvetica,sans-Serif\" font-size=\"14.00\">value = [2, 9]</text>\n<text text-anchor=\"middle\" x=\"1285\" y=\"-476.3\" font-family=\"Helvetica,sans-Serif\" font-size=\"14.00\">class = 1</text>\n</g>\n<!-- 29&#45;&gt;35 -->\n<g id=\"edge35\" class=\"edge\">\n<title>29&#45;&gt;35</title>\n<path fill=\"none\" stroke=\"black\" d=\"M1243.86,-579.91C1249.8,-568.87 1256.25,-556.9 1262.24,-545.77\"/>\n<polygon fill=\"black\" stroke=\"black\" points=\"1265.48,-547.13 1267.14,-536.67 1259.32,-543.81 1265.48,-547.13\"/>\n</g>\n<!-- 31 -->\n<g id=\"node32\" class=\"node\">\n<title>31</title>\n<path fill=\"#f0b58b\" stroke=\"black\" d=\"M1158,-425C1158,-425 1060,-425 1060,-425 1054,-425 1048,-419 1048,-413 1048,-413 1048,-354 1048,-354 1048,-348 1054,-342 1060,-342 1060,-342 1158,-342 1158,-342 1164,-342 1170,-348 1170,-354 1170,-354 1170,-413 1170,-413 1170,-419 1164,-425 1158,-425\"/>\n<text text-anchor=\"middle\" x=\"1109\" y=\"-409.8\" font-family=\"Helvetica,sans-Serif\" font-size=\"14.00\">trestbps &lt;= 135.0</text>\n<text text-anchor=\"middle\" x=\"1109\" y=\"-394.8\" font-family=\"Helvetica,sans-Serif\" font-size=\"14.00\">gini = 0.415</text>\n<text text-anchor=\"middle\" x=\"1109\" y=\"-379.8\" font-family=\"Helvetica,sans-Serif\" font-size=\"14.00\">samples = 10</text>\n<text text-anchor=\"middle\" x=\"1109\" y=\"-364.8\" font-family=\"Helvetica,sans-Serif\" font-size=\"14.00\">value = [12, 5]</text>\n<text text-anchor=\"middle\" x=\"1109\" y=\"-349.8\" font-family=\"Helvetica,sans-Serif\" font-size=\"14.00\">class = 0</text>\n</g>\n<!-- 30&#45;&gt;31 -->\n<g id=\"edge31\" class=\"edge\">\n<title>30&#45;&gt;31</title>\n<path fill=\"none\" stroke=\"black\" d=\"M1147.53,-460.91C1143.18,-452.29 1138.55,-443.09 1134.05,-434.17\"/>\n<polygon fill=\"black\" stroke=\"black\" points=\"1137.06,-432.37 1129.43,-425.02 1130.81,-435.53 1137.06,-432.37\"/>\n</g>\n<!-- 34 -->\n<g id=\"node35\" class=\"node\">\n<title>34</title>\n<path fill=\"#e58139\" stroke=\"black\" d=\"M1271.5,-417.5C1271.5,-417.5 1200.5,-417.5 1200.5,-417.5 1194.5,-417.5 1188.5,-411.5 1188.5,-405.5 1188.5,-405.5 1188.5,-361.5 1188.5,-361.5 1188.5,-355.5 1194.5,-349.5 1200.5,-349.5 1200.5,-349.5 1271.5,-349.5 1271.5,-349.5 1277.5,-349.5 1283.5,-355.5 1283.5,-361.5 1283.5,-361.5 1283.5,-405.5 1283.5,-405.5 1283.5,-411.5 1277.5,-417.5 1271.5,-417.5\"/>\n<text text-anchor=\"middle\" x=\"1236\" y=\"-402.3\" font-family=\"Helvetica,sans-Serif\" font-size=\"14.00\">gini = 0.0</text>\n<text text-anchor=\"middle\" x=\"1236\" y=\"-387.3\" font-family=\"Helvetica,sans-Serif\" font-size=\"14.00\">samples = 4</text>\n<text text-anchor=\"middle\" x=\"1236\" y=\"-372.3\" font-family=\"Helvetica,sans-Serif\" font-size=\"14.00\">value = [5, 0]</text>\n<text text-anchor=\"middle\" x=\"1236\" y=\"-357.3\" font-family=\"Helvetica,sans-Serif\" font-size=\"14.00\">class = 0</text>\n</g>\n<!-- 30&#45;&gt;34 -->\n<g id=\"edge34\" class=\"edge\">\n<title>30&#45;&gt;34</title>\n<path fill=\"none\" stroke=\"black\" d=\"M1191.59,-460.91C1198.07,-449.76 1205.1,-437.66 1211.63,-426.44\"/>\n<polygon fill=\"black\" stroke=\"black\" points=\"1214.72,-428.07 1216.72,-417.67 1208.67,-424.55 1214.72,-428.07\"/>\n</g>\n<!-- 32 -->\n<g id=\"node33\" class=\"node\">\n<title>32</title>\n<path fill=\"#e99355\" stroke=\"black\" d=\"M1137.5,-298.5C1137.5,-298.5 1066.5,-298.5 1066.5,-298.5 1060.5,-298.5 1054.5,-292.5 1054.5,-286.5 1054.5,-286.5 1054.5,-242.5 1054.5,-242.5 1054.5,-236.5 1060.5,-230.5 1066.5,-230.5 1066.5,-230.5 1137.5,-230.5 1137.5,-230.5 1143.5,-230.5 1149.5,-236.5 1149.5,-242.5 1149.5,-242.5 1149.5,-286.5 1149.5,-286.5 1149.5,-292.5 1143.5,-298.5 1137.5,-298.5\"/>\n<text text-anchor=\"middle\" x=\"1102\" y=\"-283.3\" font-family=\"Helvetica,sans-Serif\" font-size=\"14.00\">gini = 0.219</text>\n<text text-anchor=\"middle\" x=\"1102\" y=\"-268.3\" font-family=\"Helvetica,sans-Serif\" font-size=\"14.00\">samples = 5</text>\n<text text-anchor=\"middle\" x=\"1102\" y=\"-253.3\" font-family=\"Helvetica,sans-Serif\" font-size=\"14.00\">value = [7, 1]</text>\n<text text-anchor=\"middle\" x=\"1102\" y=\"-238.3\" font-family=\"Helvetica,sans-Serif\" font-size=\"14.00\">class = 0</text>\n</g>\n<!-- 31&#45;&gt;32 -->\n<g id=\"edge32\" class=\"edge\">\n<title>31&#45;&gt;32</title>\n<path fill=\"none\" stroke=\"black\" d=\"M1106.57,-341.91C1105.93,-331.2 1105.24,-319.62 1104.59,-308.78\"/>\n<polygon fill=\"black\" stroke=\"black\" points=\"1108.08,-308.44 1103.98,-298.67 1101.09,-308.86 1108.08,-308.44\"/>\n</g>\n<!-- 33 -->\n<g id=\"node34\" class=\"node\">\n<title>33</title>\n<path fill=\"#fae6d7\" stroke=\"black\" d=\"M1250.5,-298.5C1250.5,-298.5 1179.5,-298.5 1179.5,-298.5 1173.5,-298.5 1167.5,-292.5 1167.5,-286.5 1167.5,-286.5 1167.5,-242.5 1167.5,-242.5 1167.5,-236.5 1173.5,-230.5 1179.5,-230.5 1179.5,-230.5 1250.5,-230.5 1250.5,-230.5 1256.5,-230.5 1262.5,-236.5 1262.5,-242.5 1262.5,-242.5 1262.5,-286.5 1262.5,-286.5 1262.5,-292.5 1256.5,-298.5 1250.5,-298.5\"/>\n<text text-anchor=\"middle\" x=\"1215\" y=\"-283.3\" font-family=\"Helvetica,sans-Serif\" font-size=\"14.00\">gini = 0.494</text>\n<text text-anchor=\"middle\" x=\"1215\" y=\"-268.3\" font-family=\"Helvetica,sans-Serif\" font-size=\"14.00\">samples = 5</text>\n<text text-anchor=\"middle\" x=\"1215\" y=\"-253.3\" font-family=\"Helvetica,sans-Serif\" font-size=\"14.00\">value = [5, 4]</text>\n<text text-anchor=\"middle\" x=\"1215\" y=\"-238.3\" font-family=\"Helvetica,sans-Serif\" font-size=\"14.00\">class = 0</text>\n</g>\n<!-- 31&#45;&gt;33 -->\n<g id=\"edge33\" class=\"edge\">\n<title>31&#45;&gt;33</title>\n<path fill=\"none\" stroke=\"black\" d=\"M1145.78,-341.91C1156.27,-330.32 1167.71,-317.7 1178.21,-306.11\"/>\n<polygon fill=\"black\" stroke=\"black\" points=\"1180.83,-308.43 1184.95,-298.67 1175.64,-303.73 1180.83,-308.43\"/>\n</g>\n<!-- 37 -->\n<g id=\"node38\" class=\"node\">\n<title>37</title>\n<path fill=\"#ffffff\" stroke=\"black\" d=\"M1438,-544C1438,-544 1364,-544 1364,-544 1358,-544 1352,-538 1352,-532 1352,-532 1352,-473 1352,-473 1352,-467 1358,-461 1364,-461 1364,-461 1438,-461 1438,-461 1444,-461 1450,-467 1450,-473 1450,-473 1450,-532 1450,-532 1450,-538 1444,-544 1438,-544\"/>\n<text text-anchor=\"middle\" x=\"1401\" y=\"-528.8\" font-family=\"Helvetica,sans-Serif\" font-size=\"14.00\">exang &lt;= 0.5</text>\n<text text-anchor=\"middle\" x=\"1401\" y=\"-513.8\" font-family=\"Helvetica,sans-Serif\" font-size=\"14.00\">gini = 0.5</text>\n<text text-anchor=\"middle\" x=\"1401\" y=\"-498.8\" font-family=\"Helvetica,sans-Serif\" font-size=\"14.00\">samples = 11</text>\n<text text-anchor=\"middle\" x=\"1401\" y=\"-483.8\" font-family=\"Helvetica,sans-Serif\" font-size=\"14.00\">value = [8, 8]</text>\n<text text-anchor=\"middle\" x=\"1401\" y=\"-468.8\" font-family=\"Helvetica,sans-Serif\" font-size=\"14.00\">class = 0</text>\n</g>\n<!-- 36&#45;&gt;37 -->\n<g id=\"edge37\" class=\"edge\">\n<title>36&#45;&gt;37</title>\n<path fill=\"none\" stroke=\"black\" d=\"M1401,-579.91C1401,-571.65 1401,-562.86 1401,-554.3\"/>\n<polygon fill=\"black\" stroke=\"black\" points=\"1404.5,-554.02 1401,-544.02 1397.5,-554.02 1404.5,-554.02\"/>\n</g>\n<!-- 40 -->\n<g id=\"node41\" class=\"node\">\n<title>40</title>\n<path fill=\"#3d9fe6\" stroke=\"black\" d=\"M1626,-544C1626,-544 1532,-544 1532,-544 1526,-544 1520,-538 1520,-532 1520,-532 1520,-473 1520,-473 1520,-467 1526,-461 1532,-461 1532,-461 1626,-461 1626,-461 1632,-461 1638,-467 1638,-473 1638,-473 1638,-532 1638,-532 1638,-538 1632,-544 1626,-544\"/>\n<text text-anchor=\"middle\" x=\"1579\" y=\"-528.8\" font-family=\"Helvetica,sans-Serif\" font-size=\"14.00\">thalach &lt;= 126.5</text>\n<text text-anchor=\"middle\" x=\"1579\" y=\"-513.8\" font-family=\"Helvetica,sans-Serif\" font-size=\"14.00\">gini = 0.041</text>\n<text text-anchor=\"middle\" x=\"1579\" y=\"-498.8\" font-family=\"Helvetica,sans-Serif\" font-size=\"14.00\">samples = 31</text>\n<text text-anchor=\"middle\" x=\"1579\" y=\"-483.8\" font-family=\"Helvetica,sans-Serif\" font-size=\"14.00\">value = [1, 47]</text>\n<text text-anchor=\"middle\" x=\"1579\" y=\"-468.8\" font-family=\"Helvetica,sans-Serif\" font-size=\"14.00\">class = 1</text>\n</g>\n<!-- 36&#45;&gt;40 -->\n<g id=\"edge40\" class=\"edge\">\n<title>36&#45;&gt;40</title>\n<path fill=\"none\" stroke=\"black\" d=\"M1452.01,-586.97C1470.44,-574.86 1491.55,-560.98 1511.2,-548.06\"/>\n<polygon fill=\"black\" stroke=\"black\" points=\"1513.38,-550.82 1519.82,-542.4 1509.54,-544.97 1513.38,-550.82\"/>\n</g>\n<!-- 38 -->\n<g id=\"node39\" class=\"node\">\n<title>38</title>\n<path fill=\"#efb083\" stroke=\"black\" d=\"M1384.5,-417.5C1384.5,-417.5 1313.5,-417.5 1313.5,-417.5 1307.5,-417.5 1301.5,-411.5 1301.5,-405.5 1301.5,-405.5 1301.5,-361.5 1301.5,-361.5 1301.5,-355.5 1307.5,-349.5 1313.5,-349.5 1313.5,-349.5 1384.5,-349.5 1384.5,-349.5 1390.5,-349.5 1396.5,-355.5 1396.5,-361.5 1396.5,-361.5 1396.5,-405.5 1396.5,-405.5 1396.5,-411.5 1390.5,-417.5 1384.5,-417.5\"/>\n<text text-anchor=\"middle\" x=\"1349\" y=\"-402.3\" font-family=\"Helvetica,sans-Serif\" font-size=\"14.00\">gini = 0.397</text>\n<text text-anchor=\"middle\" x=\"1349\" y=\"-387.3\" font-family=\"Helvetica,sans-Serif\" font-size=\"14.00\">samples = 7</text>\n<text text-anchor=\"middle\" x=\"1349\" y=\"-372.3\" font-family=\"Helvetica,sans-Serif\" font-size=\"14.00\">value = [8, 3]</text>\n<text text-anchor=\"middle\" x=\"1349\" y=\"-357.3\" font-family=\"Helvetica,sans-Serif\" font-size=\"14.00\">class = 0</text>\n</g>\n<!-- 37&#45;&gt;38 -->\n<g id=\"edge38\" class=\"edge\">\n<title>37&#45;&gt;38</title>\n<path fill=\"none\" stroke=\"black\" d=\"M1382.96,-460.91C1378.1,-449.98 1372.84,-438.14 1367.94,-427.11\"/>\n<polygon fill=\"black\" stroke=\"black\" points=\"1371,-425.38 1363.74,-417.67 1364.6,-428.23 1371,-425.38\"/>\n</g>\n<!-- 39 -->\n<g id=\"node40\" class=\"node\">\n<title>39</title>\n<path fill=\"#399de5\" stroke=\"black\" d=\"M1497.5,-417.5C1497.5,-417.5 1426.5,-417.5 1426.5,-417.5 1420.5,-417.5 1414.5,-411.5 1414.5,-405.5 1414.5,-405.5 1414.5,-361.5 1414.5,-361.5 1414.5,-355.5 1420.5,-349.5 1426.5,-349.5 1426.5,-349.5 1497.5,-349.5 1497.5,-349.5 1503.5,-349.5 1509.5,-355.5 1509.5,-361.5 1509.5,-361.5 1509.5,-405.5 1509.5,-405.5 1509.5,-411.5 1503.5,-417.5 1497.5,-417.5\"/>\n<text text-anchor=\"middle\" x=\"1462\" y=\"-402.3\" font-family=\"Helvetica,sans-Serif\" font-size=\"14.00\">gini = 0.0</text>\n<text text-anchor=\"middle\" x=\"1462\" y=\"-387.3\" font-family=\"Helvetica,sans-Serif\" font-size=\"14.00\">samples = 4</text>\n<text text-anchor=\"middle\" x=\"1462\" y=\"-372.3\" font-family=\"Helvetica,sans-Serif\" font-size=\"14.00\">value = [0, 5]</text>\n<text text-anchor=\"middle\" x=\"1462\" y=\"-357.3\" font-family=\"Helvetica,sans-Serif\" font-size=\"14.00\">class = 1</text>\n</g>\n<!-- 37&#45;&gt;39 -->\n<g id=\"edge39\" class=\"edge\">\n<title>37&#45;&gt;39</title>\n<path fill=\"none\" stroke=\"black\" d=\"M1422.16,-460.91C1427.92,-449.87 1434.16,-437.9 1439.96,-426.77\"/>\n<polygon fill=\"black\" stroke=\"black\" points=\"1443.19,-428.15 1444.71,-417.67 1436.98,-424.92 1443.19,-428.15\"/>\n</g>\n<!-- 41 -->\n<g id=\"node42\" class=\"node\">\n<title>41</title>\n<path fill=\"#49a5e7\" stroke=\"black\" d=\"M1618,-425C1618,-425 1540,-425 1540,-425 1534,-425 1528,-419 1528,-413 1528,-413 1528,-354 1528,-354 1528,-348 1534,-342 1540,-342 1540,-342 1618,-342 1618,-342 1624,-342 1630,-348 1630,-354 1630,-354 1630,-413 1630,-413 1630,-419 1624,-425 1618,-425\"/>\n<text text-anchor=\"middle\" x=\"1579\" y=\"-409.8\" font-family=\"Helvetica,sans-Serif\" font-size=\"14.00\">ca &lt;= 0.5</text>\n<text text-anchor=\"middle\" x=\"1579\" y=\"-394.8\" font-family=\"Helvetica,sans-Serif\" font-size=\"14.00\">gini = 0.142</text>\n<text text-anchor=\"middle\" x=\"1579\" y=\"-379.8\" font-family=\"Helvetica,sans-Serif\" font-size=\"14.00\">samples = 10</text>\n<text text-anchor=\"middle\" x=\"1579\" y=\"-364.8\" font-family=\"Helvetica,sans-Serif\" font-size=\"14.00\">value = [1, 12]</text>\n<text text-anchor=\"middle\" x=\"1579\" y=\"-349.8\" font-family=\"Helvetica,sans-Serif\" font-size=\"14.00\">class = 1</text>\n</g>\n<!-- 40&#45;&gt;41 -->\n<g id=\"edge41\" class=\"edge\">\n<title>40&#45;&gt;41</title>\n<path fill=\"none\" stroke=\"black\" d=\"M1579,-460.91C1579,-452.65 1579,-443.86 1579,-435.3\"/>\n<polygon fill=\"black\" stroke=\"black\" points=\"1582.5,-435.02 1579,-425.02 1575.5,-435.02 1582.5,-435.02\"/>\n</g>\n<!-- 44 -->\n<g id=\"node45\" class=\"node\">\n<title>44</title>\n<path fill=\"#399de5\" stroke=\"black\" d=\"M1738,-417.5C1738,-417.5 1660,-417.5 1660,-417.5 1654,-417.5 1648,-411.5 1648,-405.5 1648,-405.5 1648,-361.5 1648,-361.5 1648,-355.5 1654,-349.5 1660,-349.5 1660,-349.5 1738,-349.5 1738,-349.5 1744,-349.5 1750,-355.5 1750,-361.5 1750,-361.5 1750,-405.5 1750,-405.5 1750,-411.5 1744,-417.5 1738,-417.5\"/>\n<text text-anchor=\"middle\" x=\"1699\" y=\"-402.3\" font-family=\"Helvetica,sans-Serif\" font-size=\"14.00\">gini = 0.0</text>\n<text text-anchor=\"middle\" x=\"1699\" y=\"-387.3\" font-family=\"Helvetica,sans-Serif\" font-size=\"14.00\">samples = 21</text>\n<text text-anchor=\"middle\" x=\"1699\" y=\"-372.3\" font-family=\"Helvetica,sans-Serif\" font-size=\"14.00\">value = [0, 35]</text>\n<text text-anchor=\"middle\" x=\"1699\" y=\"-357.3\" font-family=\"Helvetica,sans-Serif\" font-size=\"14.00\">class = 1</text>\n</g>\n<!-- 40&#45;&gt;44 -->\n<g id=\"edge44\" class=\"edge\">\n<title>40&#45;&gt;44</title>\n<path fill=\"none\" stroke=\"black\" d=\"M1620.63,-460.91C1632.63,-449.21 1645.71,-436.46 1657.69,-424.78\"/>\n<polygon fill=\"black\" stroke=\"black\" points=\"1660.27,-427.15 1664.98,-417.67 1655.38,-422.14 1660.27,-427.15\"/>\n</g>\n<!-- 42 -->\n<g id=\"node43\" class=\"node\">\n<title>42</title>\n<path fill=\"#61b1ea\" stroke=\"black\" d=\"M1558.5,-298.5C1558.5,-298.5 1487.5,-298.5 1487.5,-298.5 1481.5,-298.5 1475.5,-292.5 1475.5,-286.5 1475.5,-286.5 1475.5,-242.5 1475.5,-242.5 1475.5,-236.5 1481.5,-230.5 1487.5,-230.5 1487.5,-230.5 1558.5,-230.5 1558.5,-230.5 1564.5,-230.5 1570.5,-236.5 1570.5,-242.5 1570.5,-242.5 1570.5,-286.5 1570.5,-286.5 1570.5,-292.5 1564.5,-298.5 1558.5,-298.5\"/>\n<text text-anchor=\"middle\" x=\"1523\" y=\"-283.3\" font-family=\"Helvetica,sans-Serif\" font-size=\"14.00\">gini = 0.278</text>\n<text text-anchor=\"middle\" x=\"1523\" y=\"-268.3\" font-family=\"Helvetica,sans-Serif\" font-size=\"14.00\">samples = 5</text>\n<text text-anchor=\"middle\" x=\"1523\" y=\"-253.3\" font-family=\"Helvetica,sans-Serif\" font-size=\"14.00\">value = [1, 5]</text>\n<text text-anchor=\"middle\" x=\"1523\" y=\"-238.3\" font-family=\"Helvetica,sans-Serif\" font-size=\"14.00\">class = 1</text>\n</g>\n<!-- 41&#45;&gt;42 -->\n<g id=\"edge42\" class=\"edge\">\n<title>41&#45;&gt;42</title>\n<path fill=\"none\" stroke=\"black\" d=\"M1559.57,-341.91C1554.29,-330.87 1548.56,-318.9 1543.23,-307.77\"/>\n<polygon fill=\"black\" stroke=\"black\" points=\"1546.35,-306.18 1538.87,-298.67 1540.04,-309.2 1546.35,-306.18\"/>\n</g>\n<!-- 43 -->\n<g id=\"node44\" class=\"node\">\n<title>43</title>\n<path fill=\"#399de5\" stroke=\"black\" d=\"M1671.5,-298.5C1671.5,-298.5 1600.5,-298.5 1600.5,-298.5 1594.5,-298.5 1588.5,-292.5 1588.5,-286.5 1588.5,-286.5 1588.5,-242.5 1588.5,-242.5 1588.5,-236.5 1594.5,-230.5 1600.5,-230.5 1600.5,-230.5 1671.5,-230.5 1671.5,-230.5 1677.5,-230.5 1683.5,-236.5 1683.5,-242.5 1683.5,-242.5 1683.5,-286.5 1683.5,-286.5 1683.5,-292.5 1677.5,-298.5 1671.5,-298.5\"/>\n<text text-anchor=\"middle\" x=\"1636\" y=\"-283.3\" font-family=\"Helvetica,sans-Serif\" font-size=\"14.00\">gini = 0.0</text>\n<text text-anchor=\"middle\" x=\"1636\" y=\"-268.3\" font-family=\"Helvetica,sans-Serif\" font-size=\"14.00\">samples = 5</text>\n<text text-anchor=\"middle\" x=\"1636\" y=\"-253.3\" font-family=\"Helvetica,sans-Serif\" font-size=\"14.00\">value = [0, 7]</text>\n<text text-anchor=\"middle\" x=\"1636\" y=\"-238.3\" font-family=\"Helvetica,sans-Serif\" font-size=\"14.00\">class = 1</text>\n</g>\n<!-- 41&#45;&gt;43 -->\n<g id=\"edge43\" class=\"edge\">\n<title>41&#45;&gt;43</title>\n<path fill=\"none\" stroke=\"black\" d=\"M1598.78,-341.91C1604.15,-330.87 1609.99,-318.9 1615.41,-307.77\"/>\n<polygon fill=\"black\" stroke=\"black\" points=\"1618.61,-309.19 1619.84,-298.67 1612.32,-306.12 1618.61,-309.19\"/>\n</g>\n</g>\n</svg>\n",
            "text/plain": [
              "<graphviz.sources.Source at 0x7e66b9939c50>"
            ]
          },
          "metadata": {},
          "execution_count": 37
        }
      ]
    }
  ],
  "metadata": {
    "colab": {
      "provenance": [],
      "include_colab_link": true
    },
    "kernelspec": {
      "display_name": "Python 3 (ipykernel)",
      "language": "python",
      "name": "python3"
    },
    "language_info": {
      "codemirror_mode": {
        "name": "ipython",
        "version": 3
      },
      "file_extension": ".py",
      "mimetype": "text/x-python",
      "name": "python",
      "nbconvert_exporter": "python",
      "pygments_lexer": "ipython3",
      "version": "3.10.12"
    }
  },
  "nbformat": 4,
  "nbformat_minor": 0
}